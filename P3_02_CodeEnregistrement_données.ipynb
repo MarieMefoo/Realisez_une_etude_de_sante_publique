{
 "cells": [
  {
   "cell_type": "code",
   "execution_count": 1,
   "id": "5ba08a64",
   "metadata": {},
   "outputs": [],
   "source": [
    "%matplotlib inline\n",
    "import sqlite3\n",
    "conn = sqlite3.connect('projet3.db')\n",
    "c = conn.cursor()"
   ]
  },
  {
   "cell_type": "code",
   "execution_count": 2,
   "id": "ba49548c",
   "metadata": {},
   "outputs": [],
   "source": [
    "import numpy as np\n",
    "import pandas as pd\n",
    "import matplotlib.pyplot as plt\n",
    "# load the data into a Pandas DataFrame\n",
    "population = pd.read_csv(\"population.csv\")\n",
    "sousalimentation_pays = pd.read_csv(\"sous_alimentation.csv\")\n",
    "dispo_alim = pd.read_csv(\"dispo_alim.csv\")\n",
    "equilibre_prod = pd.read_csv(\"equilibre_prod.csv\")\n"
   ]
  },
  {
   "cell_type": "code",
   "execution_count": 3,
   "id": "c5bbadca",
   "metadata": {},
   "outputs": [],
   "source": [
    "population.to_sql('population', conn, if_exists='replace', index = False)"
   ]
  },
  {
   "cell_type": "code",
   "execution_count": 4,
   "id": "e14e5960",
   "metadata": {},
   "outputs": [],
   "source": [
    "dispo_alim.to_sql('dispo_alim', conn, if_exists='replace', index = False)"
   ]
  },
  {
   "cell_type": "code",
   "execution_count": 5,
   "id": "8eea0301",
   "metadata": {},
   "outputs": [],
   "source": [
    "equilibre_prod.to_sql('equilibre_prod', conn, if_exists='replace', index = False)"
   ]
  },
  {
   "cell_type": "code",
   "execution_count": 6,
   "id": "c7932fb8",
   "metadata": {},
   "outputs": [],
   "source": [
    "sousalimentation_pays.to_sql('sous_nutrition', conn, if_exists='replace', index = False)"
   ]
  },
  {
   "cell_type": "markdown",
   "id": "ef474573",
   "metadata": {},
   "source": [
    "Trouver les 10 pays ayant le plus haut ratio disponibilité alimentaire/habitant en termes de protéines (en kg) par habitant."
   ]
  },
  {
   "cell_type": "code",
   "execution_count": 7,
   "id": "a744221a",
   "metadata": {},
   "outputs": [],
   "source": [
    "table_hautRatio_kgprot=pd.read_sql_query(\"\"\" SELECT pays, ROUND(sum(dispo_prot*365*0.001),2) as ratio_kg_habitant \n",
    "                        From dispo_alim   \n",
    "                        GROUP BY dispo_alim.pays \n",
    "                        ORDER BY ratio_kg_habitant DESC Limit 10\"\"\"\n",
    "                  , con = conn)"
   ]
  },
  {
   "cell_type": "code",
   "execution_count": 8,
   "id": "00b6c590",
   "metadata": {},
   "outputs": [
    {
     "data": {
      "text/html": [
       "<div>\n",
       "<style scoped>\n",
       "    .dataframe tbody tr th:only-of-type {\n",
       "        vertical-align: middle;\n",
       "    }\n",
       "\n",
       "    .dataframe tbody tr th {\n",
       "        vertical-align: top;\n",
       "    }\n",
       "\n",
       "    .dataframe thead th {\n",
       "        text-align: right;\n",
       "    }\n",
       "</style>\n",
       "<table border=\"1\" class=\"dataframe\">\n",
       "  <thead>\n",
       "    <tr style=\"text-align: right;\">\n",
       "      <th></th>\n",
       "      <th>pays</th>\n",
       "      <th>ratio_kg_habitant</th>\n",
       "    </tr>\n",
       "  </thead>\n",
       "  <tbody>\n",
       "    <tr>\n",
       "      <th>0</th>\n",
       "      <td>Islande</td>\n",
       "      <td>48.57</td>\n",
       "    </tr>\n",
       "    <tr>\n",
       "      <th>1</th>\n",
       "      <td>Israël</td>\n",
       "      <td>46.72</td>\n",
       "    </tr>\n",
       "    <tr>\n",
       "      <th>2</th>\n",
       "      <td>Lituanie</td>\n",
       "      <td>45.39</td>\n",
       "    </tr>\n",
       "    <tr>\n",
       "      <th>3</th>\n",
       "      <td>Maldives</td>\n",
       "      <td>44.65</td>\n",
       "    </tr>\n",
       "    <tr>\n",
       "      <th>4</th>\n",
       "      <td>Finlande</td>\n",
       "      <td>42.91</td>\n",
       "    </tr>\n",
       "    <tr>\n",
       "      <th>5</th>\n",
       "      <td>Luxembourg</td>\n",
       "      <td>41.48</td>\n",
       "    </tr>\n",
       "    <tr>\n",
       "      <th>6</th>\n",
       "      <td>Monténégro</td>\n",
       "      <td>40.84</td>\n",
       "    </tr>\n",
       "    <tr>\n",
       "      <th>7</th>\n",
       "      <td>Pays-Bas</td>\n",
       "      <td>40.68</td>\n",
       "    </tr>\n",
       "    <tr>\n",
       "      <th>8</th>\n",
       "      <td>Albanie</td>\n",
       "      <td>40.65</td>\n",
       "    </tr>\n",
       "    <tr>\n",
       "      <th>9</th>\n",
       "      <td>Portugal</td>\n",
       "      <td>40.47</td>\n",
       "    </tr>\n",
       "  </tbody>\n",
       "</table>\n",
       "</div>"
      ],
      "text/plain": [
       "         pays  ratio_kg_habitant\n",
       "0     Islande              48.57\n",
       "1      Israël              46.72\n",
       "2    Lituanie              45.39\n",
       "3    Maldives              44.65\n",
       "4    Finlande              42.91\n",
       "5  Luxembourg              41.48\n",
       "6  Monténégro              40.84\n",
       "7    Pays-Bas              40.68\n",
       "8     Albanie              40.65\n",
       "9    Portugal              40.47"
      ]
     },
     "execution_count": 8,
     "metadata": {},
     "output_type": "execute_result"
    }
   ],
   "source": [
    "table_hautRatio_kgprot"
   ]
  },
  {
   "cell_type": "markdown",
   "id": "fb107054",
   "metadata": {},
   "source": [
    "Trouver les 10 pays ayant le plus haut ratio disponibilité alimentaire/habitant en termes de kcal par habitant"
   ]
  },
  {
   "cell_type": "code",
   "execution_count": 9,
   "id": "67d19c0c",
   "metadata": {},
   "outputs": [
    {
     "data": {
      "text/html": [
       "<div>\n",
       "<style scoped>\n",
       "    .dataframe tbody tr th:only-of-type {\n",
       "        vertical-align: middle;\n",
       "    }\n",
       "\n",
       "    .dataframe tbody tr th {\n",
       "        vertical-align: top;\n",
       "    }\n",
       "\n",
       "    .dataframe thead th {\n",
       "        text-align: right;\n",
       "    }\n",
       "</style>\n",
       "<table border=\"1\" class=\"dataframe\">\n",
       "  <thead>\n",
       "    <tr style=\"text-align: right;\">\n",
       "      <th></th>\n",
       "      <th>pays</th>\n",
       "      <th>ratio_kcal_habitant</th>\n",
       "    </tr>\n",
       "  </thead>\n",
       "  <tbody>\n",
       "    <tr>\n",
       "      <th>0</th>\n",
       "      <td>Autriche</td>\n",
       "      <td>1376050.0</td>\n",
       "    </tr>\n",
       "    <tr>\n",
       "      <th>1</th>\n",
       "      <td>Belgique</td>\n",
       "      <td>1364005.0</td>\n",
       "    </tr>\n",
       "    <tr>\n",
       "      <th>2</th>\n",
       "      <td>Turquie</td>\n",
       "      <td>1353420.0</td>\n",
       "    </tr>\n",
       "    <tr>\n",
       "      <th>3</th>\n",
       "      <td>États-Unis d'Amérique</td>\n",
       "      <td>1343930.0</td>\n",
       "    </tr>\n",
       "    <tr>\n",
       "      <th>4</th>\n",
       "      <td>Israël</td>\n",
       "      <td>1317650.0</td>\n",
       "    </tr>\n",
       "    <tr>\n",
       "      <th>5</th>\n",
       "      <td>Irlande</td>\n",
       "      <td>1314730.0</td>\n",
       "    </tr>\n",
       "    <tr>\n",
       "      <th>6</th>\n",
       "      <td>Italie</td>\n",
       "      <td>1305970.0</td>\n",
       "    </tr>\n",
       "    <tr>\n",
       "      <th>7</th>\n",
       "      <td>Luxembourg</td>\n",
       "      <td>1292100.0</td>\n",
       "    </tr>\n",
       "    <tr>\n",
       "      <th>8</th>\n",
       "      <td>Égypte</td>\n",
       "      <td>1284070.0</td>\n",
       "    </tr>\n",
       "    <tr>\n",
       "      <th>9</th>\n",
       "      <td>Allemagne</td>\n",
       "      <td>1278595.0</td>\n",
       "    </tr>\n",
       "  </tbody>\n",
       "</table>\n",
       "</div>"
      ],
      "text/plain": [
       "                    pays  ratio_kcal_habitant\n",
       "0               Autriche            1376050.0\n",
       "1               Belgique            1364005.0\n",
       "2                Turquie            1353420.0\n",
       "3  États-Unis d'Amérique            1343930.0\n",
       "4                 Israël            1317650.0\n",
       "5                Irlande            1314730.0\n",
       "6                 Italie            1305970.0\n",
       "7             Luxembourg            1292100.0\n",
       "8                 Égypte            1284070.0\n",
       "9              Allemagne            1278595.0"
      ]
     },
     "execution_count": 9,
     "metadata": {},
     "output_type": "execute_result"
    }
   ],
   "source": [
    "pd.read_sql_query(\"\"\" SELECT pays, ROUND(sum(dispo_alim_kcal_p_j*365), 2) as ratio_kcal_habitant \n",
    "                        FROM dispo_alim\n",
    "                        GROUP BY pays \n",
    "                        ORDER BY ratio_kcal_habitant DESC Limit 10\"\"\"\n",
    "                  , con = conn)"
   ]
  },
  {
   "cell_type": "markdown",
   "id": "a8069945",
   "metadata": {},
   "source": [
    "Pour l'année 2013, les 10 pays ayant le plus faible ratio disponibilité alimentaire/habitant en termes de protéines (en kg) par habitant.\n"
   ]
  },
  {
   "cell_type": "code",
   "execution_count": 10,
   "id": "16568490",
   "metadata": {},
   "outputs": [
    {
     "data": {
      "text/html": [
       "<div>\n",
       "<style scoped>\n",
       "    .dataframe tbody tr th:only-of-type {\n",
       "        vertical-align: middle;\n",
       "    }\n",
       "\n",
       "    .dataframe tbody tr th {\n",
       "        vertical-align: top;\n",
       "    }\n",
       "\n",
       "    .dataframe thead th {\n",
       "        text-align: right;\n",
       "    }\n",
       "</style>\n",
       "<table border=\"1\" class=\"dataframe\">\n",
       "  <thead>\n",
       "    <tr style=\"text-align: right;\">\n",
       "      <th></th>\n",
       "      <th>pays</th>\n",
       "      <th>ratio_kg_habitant</th>\n",
       "    </tr>\n",
       "  </thead>\n",
       "  <tbody>\n",
       "    <tr>\n",
       "      <th>0</th>\n",
       "      <td>Libéria</td>\n",
       "      <td>13.75</td>\n",
       "    </tr>\n",
       "    <tr>\n",
       "      <th>1</th>\n",
       "      <td>Guinée-Bissau</td>\n",
       "      <td>16.08</td>\n",
       "    </tr>\n",
       "    <tr>\n",
       "      <th>2</th>\n",
       "      <td>Mozambique</td>\n",
       "      <td>16.67</td>\n",
       "    </tr>\n",
       "    <tr>\n",
       "      <th>3</th>\n",
       "      <td>République centrafricaine</td>\n",
       "      <td>16.80</td>\n",
       "    </tr>\n",
       "    <tr>\n",
       "      <th>4</th>\n",
       "      <td>Madagascar</td>\n",
       "      <td>17.04</td>\n",
       "    </tr>\n",
       "    <tr>\n",
       "      <th>5</th>\n",
       "      <td>Haïti</td>\n",
       "      <td>17.41</td>\n",
       "    </tr>\n",
       "    <tr>\n",
       "      <th>6</th>\n",
       "      <td>Zimbabwe</td>\n",
       "      <td>17.64</td>\n",
       "    </tr>\n",
       "    <tr>\n",
       "      <th>7</th>\n",
       "      <td>Congo</td>\n",
       "      <td>18.76</td>\n",
       "    </tr>\n",
       "    <tr>\n",
       "      <th>8</th>\n",
       "      <td>Ouganda</td>\n",
       "      <td>19.21</td>\n",
       "    </tr>\n",
       "    <tr>\n",
       "      <th>9</th>\n",
       "      <td>Sao Tomé-et-Principe</td>\n",
       "      <td>19.38</td>\n",
       "    </tr>\n",
       "  </tbody>\n",
       "</table>\n",
       "</div>"
      ],
      "text/plain": [
       "                        pays  ratio_kg_habitant\n",
       "0                    Libéria              13.75\n",
       "1              Guinée-Bissau              16.08\n",
       "2                 Mozambique              16.67\n",
       "3  République centrafricaine              16.80\n",
       "4                 Madagascar              17.04\n",
       "5                      Haïti              17.41\n",
       "6                   Zimbabwe              17.64\n",
       "7                      Congo              18.76\n",
       "8                    Ouganda              19.21\n",
       "9       Sao Tomé-et-Principe              19.38"
      ]
     },
     "execution_count": 10,
     "metadata": {},
     "output_type": "execute_result"
    }
   ],
   "source": [
    "pd.read_sql_query(\"\"\" SELECT pays, ROUND(sum(dispo_prot*365*0.001), 2) as ratio_kg_habitant \n",
    "                        FROM dispo_alim \n",
    "                        GROUP BY pays \n",
    "                        ORDER BY ratio_kg_habitant ASC Limit 10\"\"\"\n",
    "                  , con = conn)"
   ]
  },
  {
   "cell_type": "markdown",
   "id": "f5431361",
   "metadata": {},
   "source": [
    "La quantité totale (en kg) de produits perdus par pays en 2013."
   ]
  },
  {
   "cell_type": "code",
   "execution_count": 11,
   "id": "96609cb0",
   "metadata": {},
   "outputs": [
    {
     "data": {
      "text/html": [
       "<div>\n",
       "<style scoped>\n",
       "    .dataframe tbody tr th:only-of-type {\n",
       "        vertical-align: middle;\n",
       "    }\n",
       "\n",
       "    .dataframe tbody tr th {\n",
       "        vertical-align: top;\n",
       "    }\n",
       "\n",
       "    .dataframe thead th {\n",
       "        text-align: right;\n",
       "    }\n",
       "</style>\n",
       "<table border=\"1\" class=\"dataframe\">\n",
       "  <thead>\n",
       "    <tr style=\"text-align: right;\">\n",
       "      <th></th>\n",
       "      <th>pays</th>\n",
       "      <th>pertes_totales</th>\n",
       "    </tr>\n",
       "  </thead>\n",
       "  <tbody>\n",
       "    <tr>\n",
       "      <th>0</th>\n",
       "      <td>Afghanistan</td>\n",
       "      <td>1.135000e+09</td>\n",
       "    </tr>\n",
       "    <tr>\n",
       "      <th>1</th>\n",
       "      <td>Afrique du Sud</td>\n",
       "      <td>2.193000e+09</td>\n",
       "    </tr>\n",
       "    <tr>\n",
       "      <th>2</th>\n",
       "      <td>Albanie</td>\n",
       "      <td>2.760000e+08</td>\n",
       "    </tr>\n",
       "    <tr>\n",
       "      <th>3</th>\n",
       "      <td>Algérie</td>\n",
       "      <td>3.753000e+09</td>\n",
       "    </tr>\n",
       "    <tr>\n",
       "      <th>4</th>\n",
       "      <td>Allemagne</td>\n",
       "      <td>3.781000e+09</td>\n",
       "    </tr>\n",
       "    <tr>\n",
       "      <th>...</th>\n",
       "      <td>...</td>\n",
       "      <td>...</td>\n",
       "    </tr>\n",
       "    <tr>\n",
       "      <th>166</th>\n",
       "      <td>Émirats arabes unis</td>\n",
       "      <td>7.050000e+08</td>\n",
       "    </tr>\n",
       "    <tr>\n",
       "      <th>167</th>\n",
       "      <td>Équateur</td>\n",
       "      <td>7.070000e+08</td>\n",
       "    </tr>\n",
       "    <tr>\n",
       "      <th>168</th>\n",
       "      <td>États-Unis d'Amérique</td>\n",
       "      <td>7.162000e+09</td>\n",
       "    </tr>\n",
       "    <tr>\n",
       "      <th>169</th>\n",
       "      <td>Éthiopie</td>\n",
       "      <td>2.256000e+09</td>\n",
       "    </tr>\n",
       "    <tr>\n",
       "      <th>170</th>\n",
       "      <td>Îles Salomon</td>\n",
       "      <td>6.000000e+06</td>\n",
       "    </tr>\n",
       "  </tbody>\n",
       "</table>\n",
       "<p>171 rows × 2 columns</p>\n",
       "</div>"
      ],
      "text/plain": [
       "                      pays  pertes_totales\n",
       "0              Afghanistan    1.135000e+09\n",
       "1           Afrique du Sud    2.193000e+09\n",
       "2                  Albanie    2.760000e+08\n",
       "3                  Algérie    3.753000e+09\n",
       "4                Allemagne    3.781000e+09\n",
       "..                     ...             ...\n",
       "166    Émirats arabes unis    7.050000e+08\n",
       "167               Équateur    7.070000e+08\n",
       "168  États-Unis d'Amérique    7.162000e+09\n",
       "169               Éthiopie    2.256000e+09\n",
       "170           Îles Salomon    6.000000e+06\n",
       "\n",
       "[171 rows x 2 columns]"
      ]
     },
     "execution_count": 11,
     "metadata": {},
     "output_type": "execute_result"
    }
   ],
   "source": [
    "pd.read_sql_query(\"\"\" SELECT pays,sum(pertes)as pertes_totales\n",
    "                        FROM equilibre_prod \n",
    "                        where annee = '2013'\n",
    "                        GROUP BY pays \"\"\"\n",
    "                  , con = conn)"
   ]
  },
  {
   "cell_type": "markdown",
   "id": "5e2e8d41",
   "metadata": {},
   "source": [
    "Les 10 pays pour lesquels la proportion de personnes sous-alimentées est la plus forte."
   ]
  },
  {
   "cell_type": "code",
   "execution_count": 12,
   "id": "727d3c83",
   "metadata": {},
   "outputs": [],
   "source": [
    "pays_sous_alimente = pd.read_sql_query(\"\"\" SELECT population.pays, round((nb_personnes/population)*100, 2) as proportion \n",
    "                        from sous_nutrition \n",
    "                        join population on sous_nutrition.pays = population.pays \n",
    "                        order by proportion DESC LIMIT 10\"\"\"\n",
    "                  , con = conn)"
   ]
  },
  {
   "cell_type": "code",
   "execution_count": 13,
   "id": "7ef11c7f",
   "metadata": {},
   "outputs": [
    {
     "data": {
      "image/png": "[encoded data removed]",
      "text/plain": [
       "<Figure size 432x288 with 1 Axes>"
      ]
     },
     "metadata": {
      "needs_background": "light"
     },
     "output_type": "display_data"
    }
   ],
   "source": [
    "plt.hist(pays_sous_alimente)\n",
    "plt.xlabel(\"pays\")\n",
    "plt.ylabel(\"proportion\")\n",
    "plt.title('les pays à plus forte proportion de sous_nutrition ', fontsize=10)\n",
    "plt.xticks(rotation=45)\n",
    "\n",
    "plt.savefig(\"pays dont la proportion de sous_nutrition est plus forte .png\")\n",
    "\n",
    "plt.show()"
   ]
  },
  {
   "cell_type": "markdown",
   "id": "ad32a545",
   "metadata": {},
   "source": [
    "Les 10 produits pour lesquels le ratio Autres utilisations/Disponibilité intérieure est le plus élevé."
   ]
  },
  {
   "cell_type": "code",
   "execution_count": 14,
   "id": "439b2926",
   "metadata": {},
   "outputs": [
    {
     "data": {
      "text/html": [
       "<div>\n",
       "<style scoped>\n",
       "    .dataframe tbody tr th:only-of-type {\n",
       "        vertical-align: middle;\n",
       "    }\n",
       "\n",
       "    .dataframe tbody tr th {\n",
       "        vertical-align: top;\n",
       "    }\n",
       "\n",
       "    .dataframe thead th {\n",
       "        text-align: right;\n",
       "    }\n",
       "</style>\n",
       "<table border=\"1\" class=\"dataframe\">\n",
       "  <thead>\n",
       "    <tr style=\"text-align: right;\">\n",
       "      <th></th>\n",
       "      <th>produit</th>\n",
       "      <th>ratio_uti_dispo</th>\n",
       "    </tr>\n",
       "  </thead>\n",
       "  <tbody>\n",
       "    <tr>\n",
       "      <th>0</th>\n",
       "      <td>Alcool, non Comestible</td>\n",
       "      <td>0.981982</td>\n",
       "    </tr>\n",
       "    <tr>\n",
       "      <th>1</th>\n",
       "      <td>Plantes Aquatiques</td>\n",
       "      <td>0.918852</td>\n",
       "    </tr>\n",
       "    <tr>\n",
       "      <th>2</th>\n",
       "      <td>Huile de Palmistes</td>\n",
       "      <td>0.783431</td>\n",
       "    </tr>\n",
       "    <tr>\n",
       "      <th>3</th>\n",
       "      <td>Piments</td>\n",
       "      <td>0.739130</td>\n",
       "    </tr>\n",
       "    <tr>\n",
       "      <th>4</th>\n",
       "      <td>Huile de Palme</td>\n",
       "      <td>0.650285</td>\n",
       "    </tr>\n",
       "    <tr>\n",
       "      <th>5</th>\n",
       "      <td>Huile de Colza&amp;Moutarde</td>\n",
       "      <td>0.618201</td>\n",
       "    </tr>\n",
       "    <tr>\n",
       "      <th>6</th>\n",
       "      <td>Huile de Coco</td>\n",
       "      <td>0.567152</td>\n",
       "    </tr>\n",
       "    <tr>\n",
       "      <th>7</th>\n",
       "      <td>Huil Plantes Oleif Autr</td>\n",
       "      <td>0.553192</td>\n",
       "    </tr>\n",
       "    <tr>\n",
       "      <th>8</th>\n",
       "      <td>Palmistes</td>\n",
       "      <td>0.531346</td>\n",
       "    </tr>\n",
       "    <tr>\n",
       "      <th>9</th>\n",
       "      <td>Huile de Son de Riz</td>\n",
       "      <td>0.502955</td>\n",
       "    </tr>\n",
       "  </tbody>\n",
       "</table>\n",
       "</div>"
      ],
      "text/plain": [
       "                   produit  ratio_uti_dispo\n",
       "0   Alcool, non Comestible         0.981982\n",
       "1       Plantes Aquatiques         0.918852\n",
       "2       Huile de Palmistes         0.783431\n",
       "3                  Piments         0.739130\n",
       "4           Huile de Palme         0.650285\n",
       "5  Huile de Colza&Moutarde         0.618201\n",
       "6            Huile de Coco         0.567152\n",
       "7  Huil Plantes Oleif Autr         0.553192\n",
       "8                Palmistes         0.531346\n",
       "9      Huile de Son de Riz         0.502955"
      ]
     },
     "execution_count": 14,
     "metadata": {},
     "output_type": "execute_result"
    }
   ],
   "source": [
    "pd.read_sql_query(\"\"\" SELECT produit , AVG(autres_utilisations/dispo_int) as ratio_uti_dispo \n",
    "                        from equilibre_prod \n",
    "                        GROUP BY produit order by ratio_uti_dispo DESC LIMIT 10\"\"\"\n",
    "                  , con = conn)"
   ]
  },
  {
   "cell_type": "code",
   "execution_count": 15,
   "id": "738aea24",
   "metadata": {},
   "outputs": [],
   "source": [
    "conn.close()"
   ]
  },
  {
   "cell_type": "code",
   "execution_count": null,
   "id": "f551f54d",
   "metadata": {},
   "outputs": [],
   "source": []
  }
 ],
 "metadata": {
  "kernelspec": {
   "display_name": "Python 3 (ipykernel)",
   "language": "python",
   "name": "python3"
  },
  "language_info": {
   "codemirror_mode": {
    "name": "ipython",
    "version": 3
   },
   "file_extension": ".py",
   "mimetype": "text/x-python",
   "name": "python",
   "nbconvert_exporter": "python",
   "pygments_lexer": "ipython3",
   "version": "3.9.7"
  }
 },
 "nbformat": 4,
 "nbformat_minor": 5
}
