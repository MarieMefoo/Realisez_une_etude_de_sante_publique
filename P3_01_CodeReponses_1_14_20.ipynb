{
 "cells": [
  {
   "cell_type": "markdown",
   "id": "f42dbdf4",
   "metadata": {},
   "source": [
    "# Analyse des données de la FAO pour une étude de santé publique"
   ]
  },
  {
   "cell_type": "code",
   "execution_count": 1,
   "id": "5f83ea9a",
   "metadata": {},
   "outputs": [],
   "source": [
    "# importation des différentes librairies et base de données\n",
    "%matplotlib inline\n",
    "import numpy as np\n",
    "import pandas as pd\n",
    "population = pd.read_csv(\"csv/fr_population.csv\")\n",
    "sousalimentation = pd.read_csv(\"csv/fr_sousalimentation.csv\")\n",
    "animaux = pd.read_csv(\"csv/fr_animaux.csv\")\n",
    "vegetaux = pd.read_csv(\"csv/fr_vegetaux.csv\")\n",
    "cereales = pd.read_csv(\"csv/fr_céréales.csv\")"
   ]
  },
  {
   "cell_type": "code",
   "execution_count": 2,
   "id": "defdaf74",
   "metadata": {},
   "outputs": [],
   "source": [
    "import matplotlib.pyplot as plt"
   ]
  },
  {
   "cell_type": "markdown",
   "id": "b8bbddcf",
   "metadata": {},
   "source": [
    "### Explorons notre table population"
   ]
  },
  {
   "cell_type": "code",
   "execution_count": 3,
   "id": "b16720ee",
   "metadata": {},
   "outputs": [
    {
     "data": {
      "text/html": [
       "<div>\n",
       "<style scoped>\n",
       "    .dataframe tbody tr th:only-of-type {\n",
       "        vertical-align: middle;\n",
       "    }\n",
       "\n",
       "    .dataframe tbody tr th {\n",
       "        vertical-align: top;\n",
       "    }\n",
       "\n",
       "    .dataframe thead th {\n",
       "        text-align: right;\n",
       "    }\n",
       "</style>\n",
       "<table border=\"1\" class=\"dataframe\">\n",
       "  <thead>\n",
       "    <tr style=\"text-align: right;\">\n",
       "      <th></th>\n",
       "      <th>Code Domaine</th>\n",
       "      <th>Domaine</th>\n",
       "      <th>Code zone</th>\n",
       "      <th>Zone</th>\n",
       "      <th>Code Élément</th>\n",
       "      <th>Élément</th>\n",
       "      <th>Code Produit</th>\n",
       "      <th>Produit</th>\n",
       "      <th>Code année</th>\n",
       "      <th>Année</th>\n",
       "      <th>Unité</th>\n",
       "      <th>Valeur</th>\n",
       "      <th>Symbole</th>\n",
       "      <th>Description du Symbole</th>\n",
       "    </tr>\n",
       "  </thead>\n",
       "  <tbody>\n",
       "    <tr>\n",
       "      <th>0</th>\n",
       "      <td>FBSH</td>\n",
       "      <td>Bilans Alimentaire (Ancienne méthodologie et p...</td>\n",
       "      <td>2</td>\n",
       "      <td>Afghanistan</td>\n",
       "      <td>511</td>\n",
       "      <td>Population totale</td>\n",
       "      <td>2501</td>\n",
       "      <td>Population</td>\n",
       "      <td>2013</td>\n",
       "      <td>2013</td>\n",
       "      <td>1000 personnes</td>\n",
       "      <td>30552</td>\n",
       "      <td>NaN</td>\n",
       "      <td>Donnée officielle</td>\n",
       "    </tr>\n",
       "    <tr>\n",
       "      <th>1</th>\n",
       "      <td>FBSH</td>\n",
       "      <td>Bilans Alimentaire (Ancienne méthodologie et p...</td>\n",
       "      <td>202</td>\n",
       "      <td>Afrique du Sud</td>\n",
       "      <td>511</td>\n",
       "      <td>Population totale</td>\n",
       "      <td>2501</td>\n",
       "      <td>Population</td>\n",
       "      <td>2013</td>\n",
       "      <td>2013</td>\n",
       "      <td>1000 personnes</td>\n",
       "      <td>52776</td>\n",
       "      <td>NaN</td>\n",
       "      <td>Donnée officielle</td>\n",
       "    </tr>\n",
       "  </tbody>\n",
       "</table>\n",
       "</div>"
      ],
      "text/plain": [
       "  Code Domaine                                            Domaine  Code zone  \\\n",
       "0         FBSH  Bilans Alimentaire (Ancienne méthodologie et p...          2   \n",
       "1         FBSH  Bilans Alimentaire (Ancienne méthodologie et p...        202   \n",
       "\n",
       "             Zone  Code Élément            Élément  Code Produit     Produit  \\\n",
       "0     Afghanistan           511  Population totale          2501  Population   \n",
       "1  Afrique du Sud           511  Population totale          2501  Population   \n",
       "\n",
       "   Code année  Année           Unité  Valeur Symbole Description du Symbole  \n",
       "0        2013   2013  1000 personnes   30552     NaN      Donnée officielle  \n",
       "1        2013   2013  1000 personnes   52776     NaN      Donnée officielle  "
      ]
     },
     "execution_count": 3,
     "metadata": {},
     "output_type": "execute_result"
    }
   ],
   "source": [
    "population.head(2)"
   ]
  },
  {
   "cell_type": "markdown",
   "id": "2544d166",
   "metadata": {},
   "source": [
    "### Explorons notre table animaux"
   ]
  },
  {
   "cell_type": "code",
   "execution_count": 4,
   "id": "a8aaa84d",
   "metadata": {},
   "outputs": [
    {
     "data": {
      "text/html": [
       "<div>\n",
       "<style scoped>\n",
       "    .dataframe tbody tr th:only-of-type {\n",
       "        vertical-align: middle;\n",
       "    }\n",
       "\n",
       "    .dataframe tbody tr th {\n",
       "        vertical-align: top;\n",
       "    }\n",
       "\n",
       "    .dataframe thead th {\n",
       "        text-align: right;\n",
       "    }\n",
       "</style>\n",
       "<table border=\"1\" class=\"dataframe\">\n",
       "  <thead>\n",
       "    <tr style=\"text-align: right;\">\n",
       "      <th></th>\n",
       "      <th>Code Domaine</th>\n",
       "      <th>Domaine</th>\n",
       "      <th>Code zone</th>\n",
       "      <th>Zone</th>\n",
       "      <th>Code Élément</th>\n",
       "      <th>Élément</th>\n",
       "      <th>Code Produit</th>\n",
       "      <th>Produit</th>\n",
       "      <th>Code année</th>\n",
       "      <th>Année</th>\n",
       "      <th>Unité</th>\n",
       "      <th>Valeur</th>\n",
       "      <th>Symbole</th>\n",
       "      <th>Description du Symbole</th>\n",
       "    </tr>\n",
       "  </thead>\n",
       "  <tbody>\n",
       "    <tr>\n",
       "      <th>0</th>\n",
       "      <td>FBSH</td>\n",
       "      <td>Bilans Alimentaire (Ancienne méthodologie et p...</td>\n",
       "      <td>2</td>\n",
       "      <td>Afghanistan</td>\n",
       "      <td>5511</td>\n",
       "      <td>Production</td>\n",
       "      <td>2731</td>\n",
       "      <td>Viande de Bovins</td>\n",
       "      <td>2013</td>\n",
       "      <td>2013</td>\n",
       "      <td>Milliers de tonnes</td>\n",
       "      <td>134.0</td>\n",
       "      <td>S</td>\n",
       "      <td>Données standardisées</td>\n",
       "    </tr>\n",
       "    <tr>\n",
       "      <th>1</th>\n",
       "      <td>FBSH</td>\n",
       "      <td>Bilans Alimentaire (Ancienne méthodologie et p...</td>\n",
       "      <td>2</td>\n",
       "      <td>Afghanistan</td>\n",
       "      <td>5611</td>\n",
       "      <td>Importations - Quantité</td>\n",
       "      <td>2731</td>\n",
       "      <td>Viande de Bovins</td>\n",
       "      <td>2013</td>\n",
       "      <td>2013</td>\n",
       "      <td>Milliers de tonnes</td>\n",
       "      <td>6.0</td>\n",
       "      <td>S</td>\n",
       "      <td>Données standardisées</td>\n",
       "    </tr>\n",
       "  </tbody>\n",
       "</table>\n",
       "</div>"
      ],
      "text/plain": [
       "  Code Domaine                                            Domaine  Code zone  \\\n",
       "0         FBSH  Bilans Alimentaire (Ancienne méthodologie et p...          2   \n",
       "1         FBSH  Bilans Alimentaire (Ancienne méthodologie et p...          2   \n",
       "\n",
       "          Zone  Code Élément                  Élément  Code Produit  \\\n",
       "0  Afghanistan          5511               Production          2731   \n",
       "1  Afghanistan          5611  Importations - Quantité          2731   \n",
       "\n",
       "            Produit  Code année  Année               Unité  Valeur Symbole  \\\n",
       "0  Viande de Bovins        2013   2013  Milliers de tonnes   134.0       S   \n",
       "1  Viande de Bovins        2013   2013  Milliers de tonnes     6.0       S   \n",
       "\n",
       "  Description du Symbole  \n",
       "0  Données standardisées  \n",
       "1  Données standardisées  "
      ]
     },
     "execution_count": 4,
     "metadata": {},
     "output_type": "execute_result"
    }
   ],
   "source": [
    "animaux.head(2)"
   ]
  },
  {
   "cell_type": "markdown",
   "id": "3d10ccd5",
   "metadata": {},
   "source": [
    "### Explorons notre table vegetaux"
   ]
  },
  {
   "cell_type": "code",
   "execution_count": 5,
   "id": "61f1a2a9",
   "metadata": {},
   "outputs": [
    {
     "data": {
      "text/html": [
       "<div>\n",
       "<style scoped>\n",
       "    .dataframe tbody tr th:only-of-type {\n",
       "        vertical-align: middle;\n",
       "    }\n",
       "\n",
       "    .dataframe tbody tr th {\n",
       "        vertical-align: top;\n",
       "    }\n",
       "\n",
       "    .dataframe thead th {\n",
       "        text-align: right;\n",
       "    }\n",
       "</style>\n",
       "<table border=\"1\" class=\"dataframe\">\n",
       "  <thead>\n",
       "    <tr style=\"text-align: right;\">\n",
       "      <th></th>\n",
       "      <th>Code Domaine</th>\n",
       "      <th>Domaine</th>\n",
       "      <th>Code zone</th>\n",
       "      <th>Zone</th>\n",
       "      <th>Code Élément</th>\n",
       "      <th>Élément</th>\n",
       "      <th>Code Produit</th>\n",
       "      <th>Produit</th>\n",
       "      <th>Code année</th>\n",
       "      <th>Année</th>\n",
       "      <th>Unité</th>\n",
       "      <th>Valeur</th>\n",
       "      <th>Symbole</th>\n",
       "      <th>Description du Symbole</th>\n",
       "    </tr>\n",
       "  </thead>\n",
       "  <tbody>\n",
       "    <tr>\n",
       "      <th>0</th>\n",
       "      <td>FBSH</td>\n",
       "      <td>Bilans Alimentaire (Ancienne méthodologie et p...</td>\n",
       "      <td>2</td>\n",
       "      <td>Afghanistan</td>\n",
       "      <td>5511</td>\n",
       "      <td>Production</td>\n",
       "      <td>2511</td>\n",
       "      <td>Blé</td>\n",
       "      <td>2013</td>\n",
       "      <td>2013</td>\n",
       "      <td>Milliers de tonnes</td>\n",
       "      <td>5169.0</td>\n",
       "      <td>S</td>\n",
       "      <td>Données standardisées</td>\n",
       "    </tr>\n",
       "    <tr>\n",
       "      <th>1</th>\n",
       "      <td>FBSH</td>\n",
       "      <td>Bilans Alimentaire (Ancienne méthodologie et p...</td>\n",
       "      <td>2</td>\n",
       "      <td>Afghanistan</td>\n",
       "      <td>5611</td>\n",
       "      <td>Importations - Quantité</td>\n",
       "      <td>2511</td>\n",
       "      <td>Blé</td>\n",
       "      <td>2013</td>\n",
       "      <td>2013</td>\n",
       "      <td>Milliers de tonnes</td>\n",
       "      <td>1173.0</td>\n",
       "      <td>S</td>\n",
       "      <td>Données standardisées</td>\n",
       "    </tr>\n",
       "  </tbody>\n",
       "</table>\n",
       "</div>"
      ],
      "text/plain": [
       "  Code Domaine                                            Domaine  Code zone  \\\n",
       "0         FBSH  Bilans Alimentaire (Ancienne méthodologie et p...          2   \n",
       "1         FBSH  Bilans Alimentaire (Ancienne méthodologie et p...          2   \n",
       "\n",
       "          Zone  Code Élément                  Élément  Code Produit Produit  \\\n",
       "0  Afghanistan          5511               Production          2511     Blé   \n",
       "1  Afghanistan          5611  Importations - Quantité          2511     Blé   \n",
       "\n",
       "   Code année  Année               Unité  Valeur Symbole  \\\n",
       "0        2013   2013  Milliers de tonnes  5169.0       S   \n",
       "1        2013   2013  Milliers de tonnes  1173.0       S   \n",
       "\n",
       "  Description du Symbole  \n",
       "0  Données standardisées  \n",
       "1  Données standardisées  "
      ]
     },
     "execution_count": 5,
     "metadata": {},
     "output_type": "execute_result"
    }
   ],
   "source": [
    "vegetaux.head(2)"
   ]
  },
  {
   "cell_type": "markdown",
   "id": "9091b2ad",
   "metadata": {},
   "source": [
    "### Explorons notre table sousalimentation"
   ]
  },
  {
   "cell_type": "code",
   "execution_count": 6,
   "id": "c715656a",
   "metadata": {},
   "outputs": [
    {
     "data": {
      "text/html": [
       "<div>\n",
       "<style scoped>\n",
       "    .dataframe tbody tr th:only-of-type {\n",
       "        vertical-align: middle;\n",
       "    }\n",
       "\n",
       "    .dataframe tbody tr th {\n",
       "        vertical-align: top;\n",
       "    }\n",
       "\n",
       "    .dataframe thead th {\n",
       "        text-align: right;\n",
       "    }\n",
       "</style>\n",
       "<table border=\"1\" class=\"dataframe\">\n",
       "  <thead>\n",
       "    <tr style=\"text-align: right;\">\n",
       "      <th></th>\n",
       "      <th>Code Domaine</th>\n",
       "      <th>Domaine</th>\n",
       "      <th>Code zone</th>\n",
       "      <th>Zone</th>\n",
       "      <th>Code Élément</th>\n",
       "      <th>Élément</th>\n",
       "      <th>Code Produit</th>\n",
       "      <th>Produit</th>\n",
       "      <th>Code année</th>\n",
       "      <th>Année</th>\n",
       "      <th>Unité</th>\n",
       "      <th>Valeur</th>\n",
       "      <th>Symbole</th>\n",
       "      <th>Description du Symbole</th>\n",
       "      <th>Note</th>\n",
       "    </tr>\n",
       "  </thead>\n",
       "  <tbody>\n",
       "    <tr>\n",
       "      <th>0</th>\n",
       "      <td>FS</td>\n",
       "      <td>Données de la sécurité alimentaire</td>\n",
       "      <td>2</td>\n",
       "      <td>Afghanistan</td>\n",
       "      <td>6132</td>\n",
       "      <td>Valeur</td>\n",
       "      <td>210011</td>\n",
       "      <td>Nombre de personnes sous-alimentées (millions)...</td>\n",
       "      <td>20122014</td>\n",
       "      <td>2012-2014</td>\n",
       "      <td>millions</td>\n",
       "      <td>7.9</td>\n",
       "      <td>F</td>\n",
       "      <td>Estimation FAO</td>\n",
       "      <td>NaN</td>\n",
       "    </tr>\n",
       "    <tr>\n",
       "      <th>1</th>\n",
       "      <td>FS</td>\n",
       "      <td>Données de la sécurité alimentaire</td>\n",
       "      <td>2</td>\n",
       "      <td>Afghanistan</td>\n",
       "      <td>6132</td>\n",
       "      <td>Valeur</td>\n",
       "      <td>210011</td>\n",
       "      <td>Nombre de personnes sous-alimentées (millions)...</td>\n",
       "      <td>20132015</td>\n",
       "      <td>2013-2015</td>\n",
       "      <td>millions</td>\n",
       "      <td>8.8</td>\n",
       "      <td>F</td>\n",
       "      <td>Estimation FAO</td>\n",
       "      <td>NaN</td>\n",
       "    </tr>\n",
       "  </tbody>\n",
       "</table>\n",
       "</div>"
      ],
      "text/plain": [
       "  Code Domaine                             Domaine  Code zone         Zone  \\\n",
       "0           FS  Données de la sécurité alimentaire          2  Afghanistan   \n",
       "1           FS  Données de la sécurité alimentaire          2  Afghanistan   \n",
       "\n",
       "   Code Élément Élément  Code Produit  \\\n",
       "0          6132  Valeur        210011   \n",
       "1          6132  Valeur        210011   \n",
       "\n",
       "                                             Produit  Code année      Année  \\\n",
       "0  Nombre de personnes sous-alimentées (millions)...    20122014  2012-2014   \n",
       "1  Nombre de personnes sous-alimentées (millions)...    20132015  2013-2015   \n",
       "\n",
       "      Unité Valeur Symbole Description du Symbole  Note  \n",
       "0  millions    7.9       F         Estimation FAO   NaN  \n",
       "1  millions    8.8       F         Estimation FAO   NaN  "
      ]
     },
     "execution_count": 6,
     "metadata": {},
     "output_type": "execute_result"
    }
   ],
   "source": [
    "sousalimentation.head(2)"
   ]
  },
  {
   "cell_type": "markdown",
   "id": "0dc71271",
   "metadata": {},
   "source": [
    "### Explorons notre table cereales"
   ]
  },
  {
   "cell_type": "code",
   "execution_count": 7,
   "id": "2662876c",
   "metadata": {},
   "outputs": [
    {
     "data": {
      "text/html": [
       "<div>\n",
       "<style scoped>\n",
       "    .dataframe tbody tr th:only-of-type {\n",
       "        vertical-align: middle;\n",
       "    }\n",
       "\n",
       "    .dataframe tbody tr th {\n",
       "        vertical-align: top;\n",
       "    }\n",
       "\n",
       "    .dataframe thead th {\n",
       "        text-align: right;\n",
       "    }\n",
       "</style>\n",
       "<table border=\"1\" class=\"dataframe\">\n",
       "  <thead>\n",
       "    <tr style=\"text-align: right;\">\n",
       "      <th></th>\n",
       "      <th>Code Domaine</th>\n",
       "      <th>Domaine</th>\n",
       "      <th>Code zone</th>\n",
       "      <th>Zone</th>\n",
       "      <th>Code Élément</th>\n",
       "      <th>Élément</th>\n",
       "      <th>Code Produit</th>\n",
       "      <th>Produit</th>\n",
       "      <th>Code année</th>\n",
       "      <th>Année</th>\n",
       "      <th>Unité</th>\n",
       "      <th>Valeur</th>\n",
       "      <th>Symbole</th>\n",
       "      <th>Description du Symbole</th>\n",
       "    </tr>\n",
       "  </thead>\n",
       "  <tbody>\n",
       "    <tr>\n",
       "      <th>0</th>\n",
       "      <td>FBSH</td>\n",
       "      <td>Bilans Alimentaire (Ancienne méthodologie et p...</td>\n",
       "      <td>2</td>\n",
       "      <td>Afghanistan</td>\n",
       "      <td>5511</td>\n",
       "      <td>Production</td>\n",
       "      <td>2511</td>\n",
       "      <td>Blé</td>\n",
       "      <td>2013</td>\n",
       "      <td>2013</td>\n",
       "      <td>Milliers de tonnes</td>\n",
       "      <td>5169</td>\n",
       "      <td>S</td>\n",
       "      <td>Données standardisées</td>\n",
       "    </tr>\n",
       "    <tr>\n",
       "      <th>1</th>\n",
       "      <td>FBSH</td>\n",
       "      <td>Bilans Alimentaire (Ancienne méthodologie et p...</td>\n",
       "      <td>2</td>\n",
       "      <td>Afghanistan</td>\n",
       "      <td>5511</td>\n",
       "      <td>Production</td>\n",
       "      <td>2805</td>\n",
       "      <td>Riz (Eq Blanchi)</td>\n",
       "      <td>2013</td>\n",
       "      <td>2013</td>\n",
       "      <td>Milliers de tonnes</td>\n",
       "      <td>342</td>\n",
       "      <td>S</td>\n",
       "      <td>Données standardisées</td>\n",
       "    </tr>\n",
       "  </tbody>\n",
       "</table>\n",
       "</div>"
      ],
      "text/plain": [
       "  Code Domaine                                            Domaine  Code zone  \\\n",
       "0         FBSH  Bilans Alimentaire (Ancienne méthodologie et p...          2   \n",
       "1         FBSH  Bilans Alimentaire (Ancienne méthodologie et p...          2   \n",
       "\n",
       "          Zone  Code Élément     Élément  Code Produit           Produit  \\\n",
       "0  Afghanistan          5511  Production          2511               Blé   \n",
       "1  Afghanistan          5511  Production          2805  Riz (Eq Blanchi)   \n",
       "\n",
       "   Code année  Année               Unité  Valeur Symbole  \\\n",
       "0        2013   2013  Milliers de tonnes    5169       S   \n",
       "1        2013   2013  Milliers de tonnes     342       S   \n",
       "\n",
       "  Description du Symbole  \n",
       "0  Données standardisées  \n",
       "1  Données standardisées  "
      ]
     },
     "execution_count": 7,
     "metadata": {},
     "output_type": "execute_result"
    }
   ],
   "source": [
    "cereales.head(2)"
   ]
  },
  {
   "cell_type": "code",
   "execution_count": 8,
   "id": "4d03370f",
   "metadata": {},
   "outputs": [
    {
     "data": {
      "text/plain": [
       "(175, 14)"
      ]
     },
     "execution_count": 8,
     "metadata": {},
     "output_type": "execute_result"
    }
   ],
   "source": [
    "population .shape"
   ]
  },
  {
   "cell_type": "code",
   "execution_count": 9,
   "id": "821e9980",
   "metadata": {},
   "outputs": [
    {
     "data": {
      "text/html": [
       "<div>\n",
       "<style scoped>\n",
       "    .dataframe tbody tr th:only-of-type {\n",
       "        vertical-align: middle;\n",
       "    }\n",
       "\n",
       "    .dataframe tbody tr th {\n",
       "        vertical-align: top;\n",
       "    }\n",
       "\n",
       "    .dataframe thead th {\n",
       "        text-align: right;\n",
       "    }\n",
       "</style>\n",
       "<table border=\"1\" class=\"dataframe\">\n",
       "  <thead>\n",
       "    <tr style=\"text-align: right;\">\n",
       "      <th></th>\n",
       "      <th>Code zone</th>\n",
       "      <th>Code Élément</th>\n",
       "      <th>Code Produit</th>\n",
       "      <th>Code année</th>\n",
       "      <th>Année</th>\n",
       "      <th>Valeur</th>\n",
       "    </tr>\n",
       "  </thead>\n",
       "  <tbody>\n",
       "    <tr>\n",
       "      <th>count</th>\n",
       "      <td>175.000000</td>\n",
       "      <td>175.0</td>\n",
       "      <td>175.0</td>\n",
       "      <td>175.0</td>\n",
       "      <td>175.0</td>\n",
       "      <td>1.750000e+02</td>\n",
       "    </tr>\n",
       "    <tr>\n",
       "      <th>mean</th>\n",
       "      <td>126.720000</td>\n",
       "      <td>511.0</td>\n",
       "      <td>2501.0</td>\n",
       "      <td>2013.0</td>\n",
       "      <td>2013.0</td>\n",
       "      <td>4.807996e+04</td>\n",
       "    </tr>\n",
       "    <tr>\n",
       "      <th>std</th>\n",
       "      <td>75.168519</td>\n",
       "      <td>0.0</td>\n",
       "      <td>0.0</td>\n",
       "      <td>0.0</td>\n",
       "      <td>0.0</td>\n",
       "      <td>1.786327e+05</td>\n",
       "    </tr>\n",
       "    <tr>\n",
       "      <th>min</th>\n",
       "      <td>1.000000</td>\n",
       "      <td>511.0</td>\n",
       "      <td>2501.0</td>\n",
       "      <td>2013.0</td>\n",
       "      <td>2013.0</td>\n",
       "      <td>5.400000e+01</td>\n",
       "    </tr>\n",
       "    <tr>\n",
       "      <th>25%</th>\n",
       "      <td>64.500000</td>\n",
       "      <td>511.0</td>\n",
       "      <td>2501.0</td>\n",
       "      <td>2013.0</td>\n",
       "      <td>2013.0</td>\n",
       "      <td>2.543500e+03</td>\n",
       "    </tr>\n",
       "    <tr>\n",
       "      <th>50%</th>\n",
       "      <td>121.000000</td>\n",
       "      <td>511.0</td>\n",
       "      <td>2501.0</td>\n",
       "      <td>2013.0</td>\n",
       "      <td>2013.0</td>\n",
       "      <td>9.413000e+03</td>\n",
       "    </tr>\n",
       "    <tr>\n",
       "      <th>75%</th>\n",
       "      <td>188.500000</td>\n",
       "      <td>511.0</td>\n",
       "      <td>2501.0</td>\n",
       "      <td>2013.0</td>\n",
       "      <td>2013.0</td>\n",
       "      <td>2.888150e+04</td>\n",
       "    </tr>\n",
       "    <tr>\n",
       "      <th>max</th>\n",
       "      <td>351.000000</td>\n",
       "      <td>511.0</td>\n",
       "      <td>2501.0</td>\n",
       "      <td>2013.0</td>\n",
       "      <td>2013.0</td>\n",
       "      <td>1.416667e+06</td>\n",
       "    </tr>\n",
       "  </tbody>\n",
       "</table>\n",
       "</div>"
      ],
      "text/plain": [
       "        Code zone  Code Élément  Code Produit  Code année   Année  \\\n",
       "count  175.000000         175.0         175.0       175.0   175.0   \n",
       "mean   126.720000         511.0        2501.0      2013.0  2013.0   \n",
       "std     75.168519           0.0           0.0         0.0     0.0   \n",
       "min      1.000000         511.0        2501.0      2013.0  2013.0   \n",
       "25%     64.500000         511.0        2501.0      2013.0  2013.0   \n",
       "50%    121.000000         511.0        2501.0      2013.0  2013.0   \n",
       "75%    188.500000         511.0        2501.0      2013.0  2013.0   \n",
       "max    351.000000         511.0        2501.0      2013.0  2013.0   \n",
       "\n",
       "             Valeur  \n",
       "count  1.750000e+02  \n",
       "mean   4.807996e+04  \n",
       "std    1.786327e+05  \n",
       "min    5.400000e+01  \n",
       "25%    2.543500e+03  \n",
       "50%    9.413000e+03  \n",
       "75%    2.888150e+04  \n",
       "max    1.416667e+06  "
      ]
     },
     "execution_count": 9,
     "metadata": {},
     "output_type": "execute_result"
    }
   ],
   "source": [
    "population.describe()"
   ]
  },
  {
   "cell_type": "code",
   "execution_count": 10,
   "id": "9e37787e",
   "metadata": {},
   "outputs": [
    {
     "data": {
      "text/plain": [
       "Index(['Code Domaine', 'Domaine', 'Code zone', 'Zone', 'Code Élément',\n",
       "       'Élément', 'Code Produit', 'Produit', 'Code année', 'Année', 'Unité',\n",
       "       'Valeur', 'Symbole', 'Description du Symbole'],\n",
       "      dtype='object')"
      ]
     },
     "execution_count": 10,
     "metadata": {},
     "output_type": "execute_result"
    }
   ],
   "source": [
    "population.columns"
   ]
  },
  {
   "cell_type": "code",
   "execution_count": 11,
   "id": "a7459014",
   "metadata": {},
   "outputs": [],
   "source": [
    "#déterminons la clé primaire de nos tables\n",
    "def check_keys(dataset,keys):\n",
    "    nbr_rows = len(dataset)\n",
    "    unique_values = len(dataset.groupby(keys).size())\n",
    "    if nbr_rows == unique_values:\n",
    "        print(\"{} est une clé primaire de notre table.\".format(keys))\n",
    "        return True\n",
    "    else:\n",
    "        print(\"{} n'est pas une clé primaire de notre table .\" .format(keys))\n",
    "        return False\n",
    "    \n",
    "                        "
   ]
  },
  {
   "cell_type": "code",
   "execution_count": 12,
   "id": "a1501367",
   "metadata": {},
   "outputs": [
    {
     "name": "stdout",
     "output_type": "stream",
     "text": [
      "Code zone est une clé primaire de notre table.\n"
     ]
    },
    {
     "data": {
      "text/plain": [
       "True"
      ]
     },
     "execution_count": 12,
     "metadata": {},
     "output_type": "execute_result"
    }
   ],
   "source": [
    "# clé de la table population\n",
    "check_keys(population,'Code zone')"
   ]
  },
  {
   "cell_type": "code",
   "execution_count": 13,
   "id": "1189358f",
   "metadata": {},
   "outputs": [
    {
     "name": "stdout",
     "output_type": "stream",
     "text": [
      "['Code zone', 'Code Élément', 'Code Produit'] est une clé primaire de notre table.\n"
     ]
    },
    {
     "data": {
      "text/plain": [
       "True"
      ]
     },
     "execution_count": 13,
     "metadata": {},
     "output_type": "execute_result"
    }
   ],
   "source": [
    "# clé de la table animaux\n",
    "check_keys(animaux,['Code zone','Code Élément','Code Produit'])"
   ]
  },
  {
   "cell_type": "code",
   "execution_count": 14,
   "id": "bd0e4a0e",
   "metadata": {},
   "outputs": [
    {
     "name": "stdout",
     "output_type": "stream",
     "text": [
      "['Code zone', 'Code Élément', 'Code Produit'] est une clé primaire de notre table.\n"
     ]
    },
    {
     "data": {
      "text/plain": [
       "True"
      ]
     },
     "execution_count": 14,
     "metadata": {},
     "output_type": "execute_result"
    }
   ],
   "source": [
    "# clé de la table vegetaux\n",
    "check_keys(vegetaux,['Code zone','Code Élément','Code Produit'])"
   ]
  },
  {
   "cell_type": "code",
   "execution_count": 15,
   "id": "71edbb36",
   "metadata": {},
   "outputs": [
    {
     "name": "stdout",
     "output_type": "stream",
     "text": [
      "['Code zone', 'Code année'] est une clé primaire de notre table.\n"
     ]
    },
    {
     "data": {
      "text/plain": [
       "True"
      ]
     },
     "execution_count": 15,
     "metadata": {},
     "output_type": "execute_result"
    }
   ],
   "source": [
    "# clé de la table sousalimentation\n",
    "check_keys(sousalimentation,['Code zone','Code année'])"
   ]
  },
  {
   "cell_type": "code",
   "execution_count": 16,
   "id": "0442c83c",
   "metadata": {},
   "outputs": [
    {
     "name": "stdout",
     "output_type": "stream",
     "text": [
      "['Code zone', 'Code Produit'] est une clé primaire de notre table.\n"
     ]
    },
    {
     "data": {
      "text/plain": [
       "True"
      ]
     },
     "execution_count": 16,
     "metadata": {},
     "output_type": "execute_result"
    }
   ],
   "source": [
    "# clé de la table cereales\n",
    "check_keys(cereales,['Code zone','Code Produit'])"
   ]
  },
  {
   "cell_type": "markdown",
   "id": "2f751069",
   "metadata": {},
   "source": [
    "## Question 1: Calculons le  nombre total d'humain"
   ]
  },
  {
   "cell_type": "code",
   "execution_count": 17,
   "id": "2f890bb0",
   "metadata": {},
   "outputs": [],
   "source": [
    "# convertissons d'abord la population qui est en milliers d'habitant\n",
    "population['Valeur']*=1000"
   ]
  },
  {
   "cell_type": "code",
   "execution_count": 18,
   "id": "fde40ad5",
   "metadata": {},
   "outputs": [
    {
     "data": {
      "text/plain": [
       "8413993000"
      ]
     },
     "execution_count": 18,
     "metadata": {},
     "output_type": "execute_result"
    }
   ],
   "source": [
    "# sommons les valeurs pour avoir la population mondiale\n",
    "\n",
    "population['Valeur'].sum()"
   ]
  },
  {
   "cell_type": "markdown",
   "id": "a6e53c9a",
   "metadata": {},
   "source": [
    "Critique : d'apès wikipédia la population mondiale en 2013 était de **7 milliards** ce qui ne cadre pas avec notre résultat qui est de 8 milliards qui est trop élevée.\n",
    "vérifions si il existe des redondances dans notre table."
   ]
  },
  {
   "cell_type": "code",
   "execution_count": 19,
   "id": "62debfd3",
   "metadata": {},
   "outputs": [
    {
     "data": {
      "text/plain": [
       "False    175\n",
       "dtype: int64"
      ]
     },
     "execution_count": 19,
     "metadata": {},
     "output_type": "execute_result"
    }
   ],
   "source": [
    "# recherchons les duplications\n",
    "population.duplicated().value_counts()"
   ]
  },
  {
   "cell_type": "markdown",
   "id": "0a1b4269",
   "metadata": {},
   "source": [
    "Pas de doublon à priori"
   ]
  },
  {
   "cell_type": "code",
   "execution_count": 20,
   "id": "7c6f993b",
   "metadata": {},
   "outputs": [
    {
     "data": {
      "text/html": [
       "<div>\n",
       "<style scoped>\n",
       "    .dataframe tbody tr th:only-of-type {\n",
       "        vertical-align: middle;\n",
       "    }\n",
       "\n",
       "    .dataframe tbody tr th {\n",
       "        vertical-align: top;\n",
       "    }\n",
       "\n",
       "    .dataframe thead th {\n",
       "        text-align: right;\n",
       "    }\n",
       "</style>\n",
       "<table border=\"1\" class=\"dataframe\">\n",
       "  <thead>\n",
       "    <tr style=\"text-align: right;\">\n",
       "      <th></th>\n",
       "      <th>Code zone</th>\n",
       "      <th>Zone</th>\n",
       "      <th>Valeur</th>\n",
       "    </tr>\n",
       "  </thead>\n",
       "  <tbody>\n",
       "    <tr>\n",
       "      <th>33</th>\n",
       "      <td>351</td>\n",
       "      <td>Chine</td>\n",
       "      <td>1416667000</td>\n",
       "    </tr>\n",
       "    <tr>\n",
       "      <th>36</th>\n",
       "      <td>41</td>\n",
       "      <td>Chine, continentale</td>\n",
       "      <td>1385567000</td>\n",
       "    </tr>\n",
       "    <tr>\n",
       "      <th>75</th>\n",
       "      <td>100</td>\n",
       "      <td>Inde</td>\n",
       "      <td>1252140000</td>\n",
       "    </tr>\n",
       "    <tr>\n",
       "      <th>55</th>\n",
       "      <td>231</td>\n",
       "      <td>États-Unis d'Amérique</td>\n",
       "      <td>320051000</td>\n",
       "    </tr>\n",
       "  </tbody>\n",
       "</table>\n",
       "</div>"
      ],
      "text/plain": [
       "    Code zone                   Zone      Valeur\n",
       "33        351                  Chine  1416667000\n",
       "36         41    Chine, continentale  1385567000\n",
       "75        100                   Inde  1252140000\n",
       "55        231  États-Unis d'Amérique   320051000"
      ]
     },
     "execution_count": 20,
     "metadata": {},
     "output_type": "execute_result"
    }
   ],
   "source": [
    "# regardons maintenant les pays dont la population est la plus élevée\n",
    "population.loc[0:,['Code zone','Zone','Valeur']].sort_values(by = 'Valeur',ascending = False).head(4)"
   ]
  },
  {
   "cell_type": "markdown",
   "id": "c2432ce6",
   "metadata": {},
   "source": [
    "Ici on constate que la chine et la chinecontinentale font tous deux parties de nos données ce qui est problématique"
   ]
  },
  {
   "cell_type": "code",
   "execution_count": 21,
   "id": "ce624bd6",
   "metadata": {},
   "outputs": [
    {
     "data": {
      "text/html": [
       "<div>\n",
       "<style scoped>\n",
       "    .dataframe tbody tr th:only-of-type {\n",
       "        vertical-align: middle;\n",
       "    }\n",
       "\n",
       "    .dataframe tbody tr th {\n",
       "        vertical-align: top;\n",
       "    }\n",
       "\n",
       "    .dataframe thead th {\n",
       "        text-align: right;\n",
       "    }\n",
       "</style>\n",
       "<table border=\"1\" class=\"dataframe\">\n",
       "  <thead>\n",
       "    <tr style=\"text-align: right;\">\n",
       "      <th></th>\n",
       "      <th>Code Domaine</th>\n",
       "      <th>Domaine</th>\n",
       "      <th>Code zone</th>\n",
       "      <th>Zone</th>\n",
       "      <th>Code Élément</th>\n",
       "      <th>Élément</th>\n",
       "      <th>Code Produit</th>\n",
       "      <th>Produit</th>\n",
       "      <th>Code année</th>\n",
       "      <th>Année</th>\n",
       "      <th>Unité</th>\n",
       "      <th>Valeur</th>\n",
       "      <th>Symbole</th>\n",
       "      <th>Description du Symbole</th>\n",
       "    </tr>\n",
       "  </thead>\n",
       "  <tbody>\n",
       "    <tr>\n",
       "      <th>33</th>\n",
       "      <td>FBSH</td>\n",
       "      <td>Bilans Alimentaire (Ancienne méthodologie et p...</td>\n",
       "      <td>351</td>\n",
       "      <td>Chine</td>\n",
       "      <td>511</td>\n",
       "      <td>Population totale</td>\n",
       "      <td>2501</td>\n",
       "      <td>Population</td>\n",
       "      <td>2013</td>\n",
       "      <td>2013</td>\n",
       "      <td>1000 personnes</td>\n",
       "      <td>1416667000</td>\n",
       "      <td>A</td>\n",
       "      <td>Agrégat, peut inclure des données officielles,...</td>\n",
       "    </tr>\n",
       "    <tr>\n",
       "      <th>34</th>\n",
       "      <td>FBSH</td>\n",
       "      <td>Bilans Alimentaire (Ancienne méthodologie et p...</td>\n",
       "      <td>96</td>\n",
       "      <td>Chine - RAS de Hong-Kong</td>\n",
       "      <td>511</td>\n",
       "      <td>Population totale</td>\n",
       "      <td>2501</td>\n",
       "      <td>Population</td>\n",
       "      <td>2013</td>\n",
       "      <td>2013</td>\n",
       "      <td>1000 personnes</td>\n",
       "      <td>7204000</td>\n",
       "      <td>NaN</td>\n",
       "      <td>Donnée officielle</td>\n",
       "    </tr>\n",
       "    <tr>\n",
       "      <th>35</th>\n",
       "      <td>FBSH</td>\n",
       "      <td>Bilans Alimentaire (Ancienne méthodologie et p...</td>\n",
       "      <td>128</td>\n",
       "      <td>Chine - RAS de Macao</td>\n",
       "      <td>511</td>\n",
       "      <td>Population totale</td>\n",
       "      <td>2501</td>\n",
       "      <td>Population</td>\n",
       "      <td>2013</td>\n",
       "      <td>2013</td>\n",
       "      <td>1000 personnes</td>\n",
       "      <td>566000</td>\n",
       "      <td>NaN</td>\n",
       "      <td>Donnée officielle</td>\n",
       "    </tr>\n",
       "    <tr>\n",
       "      <th>36</th>\n",
       "      <td>FBSH</td>\n",
       "      <td>Bilans Alimentaire (Ancienne méthodologie et p...</td>\n",
       "      <td>41</td>\n",
       "      <td>Chine, continentale</td>\n",
       "      <td>511</td>\n",
       "      <td>Population totale</td>\n",
       "      <td>2501</td>\n",
       "      <td>Population</td>\n",
       "      <td>2013</td>\n",
       "      <td>2013</td>\n",
       "      <td>1000 personnes</td>\n",
       "      <td>1385567000</td>\n",
       "      <td>NaN</td>\n",
       "      <td>Donnée officielle</td>\n",
       "    </tr>\n",
       "    <tr>\n",
       "      <th>37</th>\n",
       "      <td>FBSH</td>\n",
       "      <td>Bilans Alimentaire (Ancienne méthodologie et p...</td>\n",
       "      <td>214</td>\n",
       "      <td>Chine, Taiwan Province de</td>\n",
       "      <td>511</td>\n",
       "      <td>Population totale</td>\n",
       "      <td>2501</td>\n",
       "      <td>Population</td>\n",
       "      <td>2013</td>\n",
       "      <td>2013</td>\n",
       "      <td>1000 personnes</td>\n",
       "      <td>23330000</td>\n",
       "      <td>NaN</td>\n",
       "      <td>Donnée officielle</td>\n",
       "    </tr>\n",
       "  </tbody>\n",
       "</table>\n",
       "</div>"
      ],
      "text/plain": [
       "   Code Domaine                                            Domaine  Code zone  \\\n",
       "33         FBSH  Bilans Alimentaire (Ancienne méthodologie et p...        351   \n",
       "34         FBSH  Bilans Alimentaire (Ancienne méthodologie et p...         96   \n",
       "35         FBSH  Bilans Alimentaire (Ancienne méthodologie et p...        128   \n",
       "36         FBSH  Bilans Alimentaire (Ancienne méthodologie et p...         41   \n",
       "37         FBSH  Bilans Alimentaire (Ancienne méthodologie et p...        214   \n",
       "\n",
       "                         Zone  Code Élément            Élément  Code Produit  \\\n",
       "33                      Chine           511  Population totale          2501   \n",
       "34   Chine - RAS de Hong-Kong           511  Population totale          2501   \n",
       "35       Chine - RAS de Macao           511  Population totale          2501   \n",
       "36        Chine, continentale           511  Population totale          2501   \n",
       "37  Chine, Taiwan Province de           511  Population totale          2501   \n",
       "\n",
       "       Produit  Code année  Année           Unité      Valeur Symbole  \\\n",
       "33  Population        2013   2013  1000 personnes  1416667000       A   \n",
       "34  Population        2013   2013  1000 personnes     7204000     NaN   \n",
       "35  Population        2013   2013  1000 personnes      566000     NaN   \n",
       "36  Population        2013   2013  1000 personnes  1385567000     NaN   \n",
       "37  Population        2013   2013  1000 personnes    23330000     NaN   \n",
       "\n",
       "                               Description du Symbole  \n",
       "33  Agrégat, peut inclure des données officielles,...  \n",
       "34                                  Donnée officielle  \n",
       "35                                  Donnée officielle  \n",
       "36                                  Donnée officielle  \n",
       "37                                  Donnée officielle  "
      ]
     },
     "execution_count": 21,
     "metadata": {},
     "output_type": "execute_result"
    }
   ],
   "source": [
    "# trouvons tous les pays qui représentent la chine dans notre table\n",
    "population[population['Zone'].str.startswith('Chine')].head()"
   ]
  },
  {
   "cell_type": "markdown",
   "id": "02ff9a58",
   "metadata": {},
   "source": [
    "Dans les données statistiques de la FAO nous constatons qu'il y a bel et bien des redondances. La chine y est représenté en même temps que ses subdivisions. on choisi de conserver la chine et de supprimer ses subdivisions"
   ]
  },
  {
   "cell_type": "code",
   "execution_count": 22,
   "id": "36ebcc8d",
   "metadata": {},
   "outputs": [],
   "source": [
    "# suppression des subdivisions de la chine de notre table population\n",
    "chn = [\"Chine - RAS de Hong-Kong\",\"Chine - RAS de Macao\", \"Chine, continentale\",\"Chine, Taiwan Province de\"]\n",
    "population.drop(population.loc[population['Zone'].isin(chn)].index, inplace = True)"
   ]
  },
  {
   "cell_type": "code",
   "execution_count": 23,
   "id": "2a0e4b38",
   "metadata": {},
   "outputs": [
    {
     "data": {
      "text/html": [
       "<div>\n",
       "<style scoped>\n",
       "    .dataframe tbody tr th:only-of-type {\n",
       "        vertical-align: middle;\n",
       "    }\n",
       "\n",
       "    .dataframe tbody tr th {\n",
       "        vertical-align: top;\n",
       "    }\n",
       "\n",
       "    .dataframe thead th {\n",
       "        text-align: right;\n",
       "    }\n",
       "</style>\n",
       "<table border=\"1\" class=\"dataframe\">\n",
       "  <thead>\n",
       "    <tr style=\"text-align: right;\">\n",
       "      <th></th>\n",
       "      <th>Code Domaine</th>\n",
       "      <th>Domaine</th>\n",
       "      <th>Code zone</th>\n",
       "      <th>Zone</th>\n",
       "      <th>Code Élément</th>\n",
       "      <th>Élément</th>\n",
       "      <th>Code Produit</th>\n",
       "      <th>Produit</th>\n",
       "      <th>Code année</th>\n",
       "      <th>Année</th>\n",
       "      <th>Unité</th>\n",
       "      <th>Valeur</th>\n",
       "      <th>Symbole</th>\n",
       "      <th>Description du Symbole</th>\n",
       "    </tr>\n",
       "  </thead>\n",
       "  <tbody>\n",
       "    <tr>\n",
       "      <th>33</th>\n",
       "      <td>FBSH</td>\n",
       "      <td>Bilans Alimentaire (Ancienne méthodologie et p...</td>\n",
       "      <td>351</td>\n",
       "      <td>Chine</td>\n",
       "      <td>511</td>\n",
       "      <td>Population totale</td>\n",
       "      <td>2501</td>\n",
       "      <td>Population</td>\n",
       "      <td>2013</td>\n",
       "      <td>2013</td>\n",
       "      <td>1000 personnes</td>\n",
       "      <td>1416667000</td>\n",
       "      <td>A</td>\n",
       "      <td>Agrégat, peut inclure des données officielles,...</td>\n",
       "    </tr>\n",
       "  </tbody>\n",
       "</table>\n",
       "</div>"
      ],
      "text/plain": [
       "   Code Domaine                                            Domaine  Code zone  \\\n",
       "33         FBSH  Bilans Alimentaire (Ancienne méthodologie et p...        351   \n",
       "\n",
       "     Zone  Code Élément            Élément  Code Produit     Produit  \\\n",
       "33  Chine           511  Population totale          2501  Population   \n",
       "\n",
       "    Code année  Année           Unité      Valeur Symbole  \\\n",
       "33        2013   2013  1000 personnes  1416667000       A   \n",
       "\n",
       "                               Description du Symbole  \n",
       "33  Agrégat, peut inclure des données officielles,...  "
      ]
     },
     "execution_count": 23,
     "metadata": {},
     "output_type": "execute_result"
    }
   ],
   "source": [
    "# vérification de la supression\n",
    "population[population['Zone'].str.startswith('Chine')].head()"
   ]
  },
  {
   "cell_type": "code",
   "execution_count": 24,
   "id": "26af7f3c",
   "metadata": {},
   "outputs": [
    {
     "name": "stdout",
     "output_type": "stream",
     "text": [
      "La population mondiale est de :6997326000\n"
     ]
    }
   ],
   "source": [
    "# population mondiale correct\n",
    "pop_mondiale = population['Valeur'].sum()\n",
    "print('La population mondiale est de :{}'.format(pop_mondiale))"
   ]
  },
  {
   "cell_type": "markdown",
   "id": "3587658c",
   "metadata": {},
   "source": [
    "## Question 2: Retrouvons les redondances des éléments qui constituent le bilan alimenatire\n",
    "Identifions les redondances, en donnant une réponse sous forme de formule mathématique qui fait intervenir les 11 éléments cités\n"
   ]
  },
  {
   "cell_type": "markdown",
   "id": "b5b26d6c",
   "metadata": {},
   "source": [
    "Les redondances observées dans nos tables sont traduitent par l'équation suivante:\n",
    "> Disponibilité intérieure = Nourriture + Semences + Pertes + Traitements + Alimentations pour animaux + Autres utilisations(non alimentaires) = production +(Importations - Quantité)+ (variation de stocks)- (Exportations - Quantité)"
   ]
  },
  {
   "cell_type": "markdown",
   "id": "3fef2530",
   "metadata": {},
   "source": [
    "Vérifions notre équation en prennant le cas du blé."
   ]
  },
  {
   "cell_type": "code",
   "execution_count": 25,
   "id": "5a49dcbc",
   "metadata": {},
   "outputs": [
    {
     "name": "stdout",
     "output_type": "stream",
     "text": [
      "20298000000.0\n",
      "20298000000.0\n",
      "20298000000.0\n"
     ]
    }
   ],
   "source": [
    "#sélectionnons uniquement le blé produit en France\n",
    "vegetaux_France = vegetaux[(vegetaux['Zone']=='France') & (vegetaux['Produit']=='Blé')]\n",
    "\n",
    "def valeur_element(element):\n",
    "    return float(vegetaux_France[vegetaux_France['Élément']== element].Valeur)\n",
    "\n",
    "\n",
    "print(valeur_element('Disponibilité intérieure')*1000000)\n",
    "print((valeur_element('Production') + valeur_element('Importations - Quantité') + valeur_element('Variation de stock') - valeur_element('Exportations - Quantité'))*1000000)\n",
    "print((valeur_element('Nourriture') + valeur_element('Semences') + valeur_element('Pertes')+ valeur_element('Traitement') + valeur_element('Aliments pour animaux') +valeur_element('Autres utilisations (non alimentaire)'))*1000000)"
   ]
  },
  {
   "cell_type": "markdown",
   "id": "1ec81105",
   "metadata": {},
   "source": [
    "## Question 3:\n",
    "Calculons (pour chaque pays et chaque produit) la disponibilité alimentaire en kcal puis en kg de protéines."
   ]
  },
  {
   "cell_type": "markdown",
   "id": "8ea63272",
   "metadata": {},
   "source": [
    "Reunissons les données des tables animaux, végétaux, population"
   ]
  },
  {
   "cell_type": "code",
   "execution_count": 26,
   "id": "d2b9b2aa",
   "metadata": {},
   "outputs": [],
   "source": [
    "# créons la colonne qui spécifiera l'origine des éléments de notre table \n",
    "animaux['Origine'] = 'animal'\n",
    "vegetaux['Origine']= 'végétal'"
   ]
  },
  {
   "cell_type": "code",
   "execution_count": 27,
   "id": "5029b017",
   "metadata": {},
   "outputs": [],
   "source": [
    "# assemblons les tables animaux et végétaux dans une table commune par le biais d'une concaténation\n",
    "animaux_vegetaux = pd.concat([animaux,vegetaux])"
   ]
  },
  {
   "cell_type": "code",
   "execution_count": 28,
   "id": "0ca26b0b",
   "metadata": {},
   "outputs": [],
   "source": [
    "# transformation par un pivot table\n",
    "table = animaux_vegetaux.pivot_table(index = ['Zone','Code zone','Code Produit','Année','Produit','Origine'], columns = ['Élément'], values = 'Valeur')\n",
    "table.reset_index(inplace=True)\n",
    "\n",
    "# suppriomons les duplications de pays dans notre table concaténée\n",
    "table.drop(table.loc[table['Zone'].isin(chn)].index, inplace = True)\n"
   ]
  },
  {
   "cell_type": "code",
   "execution_count": 29,
   "id": "a3063e71",
   "metadata": {},
   "outputs": [
    {
     "data": {
      "text/html": [
       "<div>\n",
       "<style scoped>\n",
       "    .dataframe tbody tr th:only-of-type {\n",
       "        vertical-align: middle;\n",
       "    }\n",
       "\n",
       "    .dataframe tbody tr th {\n",
       "        vertical-align: top;\n",
       "    }\n",
       "\n",
       "    .dataframe thead th {\n",
       "        text-align: right;\n",
       "    }\n",
       "</style>\n",
       "<table border=\"1\" class=\"dataframe\">\n",
       "  <thead>\n",
       "    <tr style=\"text-align: right;\">\n",
       "      <th>Élément</th>\n",
       "      <th>Zone</th>\n",
       "      <th>Code zone</th>\n",
       "      <th>Code Produit</th>\n",
       "      <th>Année</th>\n",
       "      <th>Produit</th>\n",
       "      <th>Origine</th>\n",
       "      <th>Aliments pour animaux</th>\n",
       "      <th>Autres utilisations (non alimentaire)</th>\n",
       "      <th>Disponibilité alimentaire (Kcal/personne/jour)</th>\n",
       "      <th>Disponibilité alimentaire en quantité (kg/personne/an)</th>\n",
       "      <th>...</th>\n",
       "      <th>Disponibilité de protéines en quantité (g/personne/jour)</th>\n",
       "      <th>Disponibilité intérieure</th>\n",
       "      <th>Exportations - Quantité</th>\n",
       "      <th>Importations - Quantité</th>\n",
       "      <th>Nourriture</th>\n",
       "      <th>Pertes</th>\n",
       "      <th>Production</th>\n",
       "      <th>Semences</th>\n",
       "      <th>Traitement</th>\n",
       "      <th>Variation de stock</th>\n",
       "    </tr>\n",
       "  </thead>\n",
       "  <tbody>\n",
       "    <tr>\n",
       "      <th>0</th>\n",
       "      <td>Afghanistan</td>\n",
       "      <td>2</td>\n",
       "      <td>2511</td>\n",
       "      <td>2013</td>\n",
       "      <td>Blé</td>\n",
       "      <td>végétal</td>\n",
       "      <td>NaN</td>\n",
       "      <td>NaN</td>\n",
       "      <td>1369.0</td>\n",
       "      <td>160.23</td>\n",
       "      <td>...</td>\n",
       "      <td>36.91</td>\n",
       "      <td>5.992000e+09</td>\n",
       "      <td>NaN</td>\n",
       "      <td>1.173000e+09</td>\n",
       "      <td>4.895000e+09</td>\n",
       "      <td>775000000.0</td>\n",
       "      <td>5.169000e+09</td>\n",
       "      <td>322000000.0</td>\n",
       "      <td>NaN</td>\n",
       "      <td>-350000000.0</td>\n",
       "    </tr>\n",
       "    <tr>\n",
       "      <th>1</th>\n",
       "      <td>Afghanistan</td>\n",
       "      <td>2</td>\n",
       "      <td>2513</td>\n",
       "      <td>2013</td>\n",
       "      <td>Orge</td>\n",
       "      <td>végétal</td>\n",
       "      <td>360000000.0</td>\n",
       "      <td>NaN</td>\n",
       "      <td>26.0</td>\n",
       "      <td>2.92</td>\n",
       "      <td>...</td>\n",
       "      <td>0.79</td>\n",
       "      <td>5.240000e+08</td>\n",
       "      <td>NaN</td>\n",
       "      <td>1.000000e+07</td>\n",
       "      <td>8.900000e+07</td>\n",
       "      <td>52000000.0</td>\n",
       "      <td>5.140000e+08</td>\n",
       "      <td>22000000.0</td>\n",
       "      <td>NaN</td>\n",
       "      <td>0.0</td>\n",
       "    </tr>\n",
       "  </tbody>\n",
       "</table>\n",
       "<p>2 rows × 21 columns</p>\n",
       "</div>"
      ],
      "text/plain": [
       "Élément         Zone  Code zone  Code Produit  Année Produit  Origine  \\\n",
       "0        Afghanistan          2          2511   2013     Blé  végétal   \n",
       "1        Afghanistan          2          2513   2013    Orge  végétal   \n",
       "\n",
       "Élément  Aliments pour animaux  Autres utilisations (non alimentaire)  \\\n",
       "0                          NaN                                    NaN   \n",
       "1                  360000000.0                                    NaN   \n",
       "\n",
       "Élément  Disponibilité alimentaire (Kcal/personne/jour)  \\\n",
       "0                                                1369.0   \n",
       "1                                                  26.0   \n",
       "\n",
       "Élément  Disponibilité alimentaire en quantité (kg/personne/an)  ...  \\\n",
       "0                                                   160.23       ...   \n",
       "1                                                     2.92       ...   \n",
       "\n",
       "Élément  Disponibilité de protéines en quantité (g/personne/jour)  \\\n",
       "0                                                    36.91          \n",
       "1                                                     0.79          \n",
       "\n",
       "Élément  Disponibilité intérieure  Exportations - Quantité  \\\n",
       "0                    5.992000e+09                      NaN   \n",
       "1                    5.240000e+08                      NaN   \n",
       "\n",
       "Élément  Importations - Quantité    Nourriture       Pertes    Production  \\\n",
       "0                   1.173000e+09  4.895000e+09  775000000.0  5.169000e+09   \n",
       "1                   1.000000e+07  8.900000e+07   52000000.0  5.140000e+08   \n",
       "\n",
       "Élément     Semences  Traitement  Variation de stock  \n",
       "0        322000000.0         NaN        -350000000.0  \n",
       "1         22000000.0         NaN                 0.0  \n",
       "\n",
       "[2 rows x 21 columns]"
      ]
     },
     "execution_count": 29,
     "metadata": {},
     "output_type": "execute_result"
    }
   ],
   "source": [
    "#convertissons chaque élément  en son unité pour homogéniser nos valeurs et ne pas avoir à multiplier par 1000000  chaque fois\n",
    "\n",
    "list=['Production','Disponibilité intérieure','Nourriture','Importations - Quantité','Aliments pour animaux','Autres utilisations (non alimentaire)','Exportations - Quantité','Pertes','Semences','Variation de stock']\n",
    "for l in list:\n",
    "    table[l] *=1000000\n",
    "table.head(2)"
   ]
  },
  {
   "cell_type": "code",
   "execution_count": 30,
   "id": "245da1ab",
   "metadata": {},
   "outputs": [],
   "source": [
    "# jointure de notre nouvelle table(animaux+végétaux) et la table population\n",
    "table_jointe= pd.merge(table,population[['Zone','Valeur']] , on = ['Zone'], how = 'inner')"
   ]
  },
  {
   "cell_type": "code",
   "execution_count": 31,
   "id": "8dca13df",
   "metadata": {},
   "outputs": [],
   "source": [
    "# renomnons la nouvelle colonne intégrée à notre table\n",
    "table_jointe = table_jointe.rename({'Valeur': 'population'}, axis = 1)"
   ]
  },
  {
   "cell_type": "code",
   "execution_count": 32,
   "id": "6a17cab1",
   "metadata": {},
   "outputs": [],
   "source": [
    "# calcul de la disponibilité alimentaire en kcal\n",
    "table_jointe['dispo_alim_kcal']= table_jointe['Disponibilité alimentaire (Kcal/personne/jour)']*365*table_jointe['population']"
   ]
  },
  {
   "cell_type": "code",
   "execution_count": 33,
   "id": "787e3bba",
   "metadata": {},
   "outputs": [],
   "source": [
    "# calcul de la disponibilité en kg de protéines\n",
    "table_jointe['dispo_alim_kgprot']= (table_jointe['Disponibilité de protéines en quantité (g/personne/jour)']*0.001*365)*table_jointe['population']\n",
    "#table_jointe[table_jointe['Zone']=='Inde']['dispo_alim_kgprot'].sum()"
   ]
  },
  {
   "cell_type": "markdown",
   "id": "d0399c48",
   "metadata": {},
   "source": [
    "## Question 4: \n",
    "Trouvons le ratio energie / poids en kcal/kg. sachant que ratio energie/poids = disponibilité alimentaire en kcal/nourriture"
   ]
  },
  {
   "cell_type": "code",
   "execution_count": 34,
   "id": "1c94c9c1",
   "metadata": {},
   "outputs": [
    {
     "data": {
      "text/html": [
       "<div>\n",
       "<style scoped>\n",
       "    .dataframe tbody tr th:only-of-type {\n",
       "        vertical-align: middle;\n",
       "    }\n",
       "\n",
       "    .dataframe tbody tr th {\n",
       "        vertical-align: top;\n",
       "    }\n",
       "\n",
       "    .dataframe thead th {\n",
       "        text-align: right;\n",
       "    }\n",
       "</style>\n",
       "<table border=\"1\" class=\"dataframe\">\n",
       "  <thead>\n",
       "    <tr style=\"text-align: right;\">\n",
       "      <th></th>\n",
       "      <th>Produit</th>\n",
       "      <th>dispo_alim_kcal</th>\n",
       "      <th>dispo_alim_kgprot</th>\n",
       "      <th>Nourriture</th>\n",
       "    </tr>\n",
       "  </thead>\n",
       "  <tbody>\n",
       "    <tr>\n",
       "      <th>0</th>\n",
       "      <td>Blé</td>\n",
       "      <td>1.526638e+13</td>\n",
       "      <td>411601126.8</td>\n",
       "      <td>4.895000e+09</td>\n",
       "    </tr>\n",
       "    <tr>\n",
       "      <th>1</th>\n",
       "      <td>Orge</td>\n",
       "      <td>2.899385e+11</td>\n",
       "      <td>8809669.2</td>\n",
       "      <td>8.900000e+07</td>\n",
       "    </tr>\n",
       "  </tbody>\n",
       "</table>\n",
       "</div>"
      ],
      "text/plain": [
       "  Produit  dispo_alim_kcal  dispo_alim_kgprot    Nourriture\n",
       "0     Blé     1.526638e+13        411601126.8  4.895000e+09\n",
       "1    Orge     2.899385e+11          8809669.2  8.900000e+07"
      ]
     },
     "execution_count": 34,
     "metadata": {},
     "output_type": "execute_result"
    }
   ],
   "source": [
    "# sélectionnons les colonnes qui nous interessent:\n",
    "table_ratio = table_jointe[['Produit','dispo_alim_kcal','dispo_alim_kgprot','Nourriture']].copy()\n",
    "table_ratio.head(2)"
   ]
  },
  {
   "cell_type": "code",
   "execution_count": 35,
   "id": "0098d023",
   "metadata": {},
   "outputs": [],
   "source": [
    "#remplacement des 0 par des NaN pour éviter la division par 0\n",
    "table_ratio.replace(0, np.nan, inplace=True)"
   ]
  },
  {
   "cell_type": "code",
   "execution_count": 36,
   "id": "e6271084",
   "metadata": {},
   "outputs": [
    {
     "data": {
      "text/html": [
       "<div>\n",
       "<style scoped>\n",
       "    .dataframe tbody tr th:only-of-type {\n",
       "        vertical-align: middle;\n",
       "    }\n",
       "\n",
       "    .dataframe tbody tr th {\n",
       "        vertical-align: top;\n",
       "    }\n",
       "\n",
       "    .dataframe thead th {\n",
       "        text-align: right;\n",
       "    }\n",
       "</style>\n",
       "<table border=\"1\" class=\"dataframe\">\n",
       "  <thead>\n",
       "    <tr style=\"text-align: right;\">\n",
       "      <th></th>\n",
       "      <th>Produit</th>\n",
       "      <th>dispo_alim_kcal</th>\n",
       "      <th>dispo_alim_kgprot</th>\n",
       "      <th>Nourriture</th>\n",
       "      <th>ratio_kcal</th>\n",
       "      <th>ratio_prot</th>\n",
       "    </tr>\n",
       "  </thead>\n",
       "  <tbody>\n",
       "    <tr>\n",
       "      <th>0</th>\n",
       "      <td>Blé</td>\n",
       "      <td>1.526638e+13</td>\n",
       "      <td>4.116011e+08</td>\n",
       "      <td>4.895000e+09</td>\n",
       "      <td>3118.769381</td>\n",
       "      <td>0.084086</td>\n",
       "    </tr>\n",
       "    <tr>\n",
       "      <th>1</th>\n",
       "      <td>Orge</td>\n",
       "      <td>2.899385e+11</td>\n",
       "      <td>8.809669e+06</td>\n",
       "      <td>8.900000e+07</td>\n",
       "      <td>3257.735730</td>\n",
       "      <td>0.098985</td>\n",
       "    </tr>\n",
       "    <tr>\n",
       "      <th>2</th>\n",
       "      <td>Maïs</td>\n",
       "      <td>2.341811e+11</td>\n",
       "      <td>6.244829e+06</td>\n",
       "      <td>7.600000e+07</td>\n",
       "      <td>3081.330000</td>\n",
       "      <td>0.082169</td>\n",
       "    </tr>\n",
       "    <tr>\n",
       "      <th>3</th>\n",
       "      <td>Millet</td>\n",
       "      <td>3.345444e+10</td>\n",
       "      <td>8.921184e+05</td>\n",
       "      <td>1.200000e+07</td>\n",
       "      <td>2787.870000</td>\n",
       "      <td>0.074343</td>\n",
       "    </tr>\n",
       "    <tr>\n",
       "      <th>4</th>\n",
       "      <td>Céréales, Autres</td>\n",
       "      <td>NaN</td>\n",
       "      <td>NaN</td>\n",
       "      <td>NaN</td>\n",
       "      <td>NaN</td>\n",
       "      <td>NaN</td>\n",
       "    </tr>\n",
       "    <tr>\n",
       "      <th>...</th>\n",
       "      <td>...</td>\n",
       "      <td>...</td>\n",
       "      <td>...</td>\n",
       "      <td>...</td>\n",
       "      <td>...</td>\n",
       "      <td>...</td>\n",
       "    </tr>\n",
       "    <tr>\n",
       "      <th>15320</th>\n",
       "      <td>Huiles de Poissons</td>\n",
       "      <td>NaN</td>\n",
       "      <td>NaN</td>\n",
       "      <td>NaN</td>\n",
       "      <td>NaN</td>\n",
       "      <td>NaN</td>\n",
       "    </tr>\n",
       "    <tr>\n",
       "      <th>15321</th>\n",
       "      <td>Huiles de Foie de Poisso</td>\n",
       "      <td>NaN</td>\n",
       "      <td>NaN</td>\n",
       "      <td>NaN</td>\n",
       "      <td>NaN</td>\n",
       "      <td>NaN</td>\n",
       "    </tr>\n",
       "    <tr>\n",
       "      <th>15322</th>\n",
       "      <td>Riz (Eq Blanchi)</td>\n",
       "      <td>1.275686e+11</td>\n",
       "      <td>2.231938e+06</td>\n",
       "      <td>3.600000e+07</td>\n",
       "      <td>3543.572083</td>\n",
       "      <td>0.061998</td>\n",
       "    </tr>\n",
       "    <tr>\n",
       "      <th>15323</th>\n",
       "      <td>Lait - Excl Beurre</td>\n",
       "      <td>3.890535e+09</td>\n",
       "      <td>2.150033e+05</td>\n",
       "      <td>6.000000e+06</td>\n",
       "      <td>648.422500</td>\n",
       "      <td>0.035834</td>\n",
       "    </tr>\n",
       "    <tr>\n",
       "      <th>15324</th>\n",
       "      <td>Miscellanees</td>\n",
       "      <td>6.142950e+08</td>\n",
       "      <td>2.047650e+04</td>\n",
       "      <td>NaN</td>\n",
       "      <td>NaN</td>\n",
       "      <td>NaN</td>\n",
       "    </tr>\n",
       "  </tbody>\n",
       "</table>\n",
       "<p>15325 rows × 6 columns</p>\n",
       "</div>"
      ],
      "text/plain": [
       "                        Produit  dispo_alim_kcal  dispo_alim_kgprot  \\\n",
       "0                           Blé     1.526638e+13       4.116011e+08   \n",
       "1                          Orge     2.899385e+11       8.809669e+06   \n",
       "2                          Maïs     2.341811e+11       6.244829e+06   \n",
       "3                        Millet     3.345444e+10       8.921184e+05   \n",
       "4              Céréales, Autres              NaN                NaN   \n",
       "...                         ...              ...                ...   \n",
       "15320        Huiles de Poissons              NaN                NaN   \n",
       "15321  Huiles de Foie de Poisso              NaN                NaN   \n",
       "15322          Riz (Eq Blanchi)     1.275686e+11       2.231938e+06   \n",
       "15323        Lait - Excl Beurre     3.890535e+09       2.150033e+05   \n",
       "15324              Miscellanees     6.142950e+08       2.047650e+04   \n",
       "\n",
       "         Nourriture   ratio_kcal  ratio_prot  \n",
       "0      4.895000e+09  3118.769381    0.084086  \n",
       "1      8.900000e+07  3257.735730    0.098985  \n",
       "2      7.600000e+07  3081.330000    0.082169  \n",
       "3      1.200000e+07  2787.870000    0.074343  \n",
       "4               NaN          NaN         NaN  \n",
       "...             ...          ...         ...  \n",
       "15320           NaN          NaN         NaN  \n",
       "15321           NaN          NaN         NaN  \n",
       "15322  3.600000e+07  3543.572083    0.061998  \n",
       "15323  6.000000e+06   648.422500    0.035834  \n",
       "15324           NaN          NaN         NaN  \n",
       "\n",
       "[15325 rows x 6 columns]"
      ]
     },
     "execution_count": 36,
     "metadata": {},
     "output_type": "execute_result"
    }
   ],
   "source": [
    "#ratio energie poids\n",
    "table_ratio['ratio_kcal']= table_ratio['dispo_alim_kcal']/table_ratio['Nourriture']\n",
    "\n",
    "\n",
    "#calculons le ration energie poids en kg de proteine = dispo_alim_kg de proteine/nourriture\n",
    "table_ratio['ratio_prot']= table_ratio['dispo_alim_kgprot']/table_ratio['Nourriture']\n",
    "table_ratio"
   ]
  },
  {
   "cell_type": "code",
   "execution_count": 37,
   "id": "9546b357",
   "metadata": {},
   "outputs": [
    {
     "data": {
      "text/html": [
       "<div>\n",
       "<style scoped>\n",
       "    .dataframe tbody tr th:only-of-type {\n",
       "        vertical-align: middle;\n",
       "    }\n",
       "\n",
       "    .dataframe tbody tr th {\n",
       "        vertical-align: top;\n",
       "    }\n",
       "\n",
       "    .dataframe thead th {\n",
       "        text-align: right;\n",
       "    }\n",
       "</style>\n",
       "<table border=\"1\" class=\"dataframe\">\n",
       "  <thead>\n",
       "    <tr style=\"text-align: right;\">\n",
       "      <th></th>\n",
       "      <th>Produit</th>\n",
       "      <th>ratio_kcal</th>\n",
       "      <th>ratio_prot</th>\n",
       "    </tr>\n",
       "  </thead>\n",
       "  <tbody>\n",
       "    <tr>\n",
       "      <th>58</th>\n",
       "      <td>Oeufs</td>\n",
       "      <td>1343.440349</td>\n",
       "      <td>0.105473</td>\n",
       "    </tr>\n",
       "  </tbody>\n",
       "</table>\n",
       "</div>"
      ],
      "text/plain": [
       "   Produit   ratio_kcal  ratio_prot\n",
       "58   Oeufs  1343.440349    0.105473"
      ]
     },
     "execution_count": 37,
     "metadata": {},
     "output_type": "execute_result"
    }
   ],
   "source": [
    "#verification avec le ratio de l'oeuf égale en moyenne à 1470kcal/kg\n",
    "table_ratio_kcal_produit = table_ratio[['Produit','ratio_kcal','ratio_prot']].groupby(['Produit']).mean()\n",
    "table_ratio_kcal_produit.reset_index(inplace = True)\n",
    "table_ratio_kcal_produit[table_ratio_kcal_produit['Produit'] =='Oeufs']"
   ]
  },
  {
   "cell_type": "code",
   "execution_count": 38,
   "id": "e787b912",
   "metadata": {},
   "outputs": [
    {
     "data": {
      "text/html": [
       "<div>\n",
       "<style scoped>\n",
       "    .dataframe tbody tr th:only-of-type {\n",
       "        vertical-align: middle;\n",
       "    }\n",
       "\n",
       "    .dataframe tbody tr th {\n",
       "        vertical-align: top;\n",
       "    }\n",
       "\n",
       "    .dataframe thead th {\n",
       "        text-align: right;\n",
       "    }\n",
       "</style>\n",
       "<table border=\"1\" class=\"dataframe\">\n",
       "  <thead>\n",
       "    <tr style=\"text-align: right;\">\n",
       "      <th></th>\n",
       "      <th>Produit</th>\n",
       "      <th>ratio_kcal</th>\n",
       "      <th>ratio_prot</th>\n",
       "    </tr>\n",
       "  </thead>\n",
       "  <tbody>\n",
       "    <tr>\n",
       "      <th>7</th>\n",
       "      <td>Avoine</td>\n",
       "      <td>2135.35579</td>\n",
       "      <td>0.084294</td>\n",
       "    </tr>\n",
       "  </tbody>\n",
       "</table>\n",
       "</div>"
      ],
      "text/plain": [
       "  Produit  ratio_kcal  ratio_prot\n",
       "7  Avoine  2135.35579    0.084294"
      ]
     },
     "execution_count": 38,
     "metadata": {},
     "output_type": "execute_result"
    }
   ],
   "source": [
    "#vérifions le ratio proteique de l'avoine \n",
    "table_ratio_prot_produit = table_ratio[['Produit','ratio_kcal', 'ratio_prot']].groupby(['Produit']).mean()\n",
    "table_ratio_prot_produit.reset_index(inplace = True)\n",
    "table_ratio_prot_produit[table_ratio_prot_produit['Produit']=='Avoine']"
   ]
  },
  {
   "cell_type": "markdown",
   "id": "2fd9f06e",
   "metadata": {},
   "source": [
    "### Question 5 : Citez 5 aliments parmi les 20 aliments les plus caloriques, en utilisant le ratio énergie/poids"
   ]
  },
  {
   "cell_type": "code",
   "execution_count": 39,
   "id": "e04a2515",
   "metadata": {},
   "outputs": [
    {
     "data": {
      "text/html": [
       "<div>\n",
       "<style scoped>\n",
       "    .dataframe tbody tr th:only-of-type {\n",
       "        vertical-align: middle;\n",
       "    }\n",
       "\n",
       "    .dataframe tbody tr th {\n",
       "        vertical-align: top;\n",
       "    }\n",
       "\n",
       "    .dataframe thead th {\n",
       "        text-align: right;\n",
       "    }\n",
       "</style>\n",
       "<table border=\"1\" class=\"dataframe\">\n",
       "  <thead>\n",
       "    <tr style=\"text-align: right;\">\n",
       "      <th></th>\n",
       "      <th>Produit</th>\n",
       "      <th>ratio_kcal</th>\n",
       "      <th>ratio_prot</th>\n",
       "    </tr>\n",
       "  </thead>\n",
       "  <tbody>\n",
       "    <tr>\n",
       "      <th>45</th>\n",
       "      <td>Huiles de Foie de Poisso</td>\n",
       "      <td>9982.932500</td>\n",
       "      <td>NaN</td>\n",
       "    </tr>\n",
       "    <tr>\n",
       "      <th>42</th>\n",
       "      <td>Huile de Son de Riz</td>\n",
       "      <td>9379.568137</td>\n",
       "      <td>0.006927</td>\n",
       "    </tr>\n",
       "    <tr>\n",
       "      <th>43</th>\n",
       "      <td>Huile de Sésame</td>\n",
       "      <td>9314.546692</td>\n",
       "      <td>NaN</td>\n",
       "    </tr>\n",
       "    <tr>\n",
       "      <th>46</th>\n",
       "      <td>Huiles de Poissons</td>\n",
       "      <td>9003.715504</td>\n",
       "      <td>NaN</td>\n",
       "    </tr>\n",
       "    <tr>\n",
       "      <th>34</th>\n",
       "      <td>Huile d'Arachide</td>\n",
       "      <td>8925.582634</td>\n",
       "      <td>0.010132</td>\n",
       "    </tr>\n",
       "    <tr>\n",
       "      <th>38</th>\n",
       "      <td>Huile de Germe de Maïs</td>\n",
       "      <td>8914.635341</td>\n",
       "      <td>0.007495</td>\n",
       "    </tr>\n",
       "    <tr>\n",
       "      <th>35</th>\n",
       "      <td>Huile d'Olive</td>\n",
       "      <td>8891.111102</td>\n",
       "      <td>NaN</td>\n",
       "    </tr>\n",
       "    <tr>\n",
       "      <th>32</th>\n",
       "      <td>Huil Plantes Oleif Autr</td>\n",
       "      <td>8867.128294</td>\n",
       "      <td>0.011281</td>\n",
       "    </tr>\n",
       "    <tr>\n",
       "      <th>40</th>\n",
       "      <td>Huile de Palmistes</td>\n",
       "      <td>8797.863661</td>\n",
       "      <td>0.006703</td>\n",
       "    </tr>\n",
       "    <tr>\n",
       "      <th>33</th>\n",
       "      <td>Huile Graines de Coton</td>\n",
       "      <td>8743.068709</td>\n",
       "      <td>0.005643</td>\n",
       "    </tr>\n",
       "    <tr>\n",
       "      <th>39</th>\n",
       "      <td>Huile de Palme</td>\n",
       "      <td>8719.497538</td>\n",
       "      <td>0.004927</td>\n",
       "    </tr>\n",
       "    <tr>\n",
       "      <th>44</th>\n",
       "      <td>Huile de Tournesol</td>\n",
       "      <td>8676.050458</td>\n",
       "      <td>0.002850</td>\n",
       "    </tr>\n",
       "    <tr>\n",
       "      <th>41</th>\n",
       "      <td>Huile de Soja</td>\n",
       "      <td>8648.531981</td>\n",
       "      <td>0.003208</td>\n",
       "    </tr>\n",
       "    <tr>\n",
       "      <th>37</th>\n",
       "      <td>Huile de Colza&amp;Moutarde</td>\n",
       "      <td>8625.014786</td>\n",
       "      <td>0.003939</td>\n",
       "    </tr>\n",
       "    <tr>\n",
       "      <th>36</th>\n",
       "      <td>Huile de Coco</td>\n",
       "      <td>8536.524516</td>\n",
       "      <td>0.007418</td>\n",
       "    </tr>\n",
       "    <tr>\n",
       "      <th>30</th>\n",
       "      <td>Graisses Animales Crue</td>\n",
       "      <td>7603.648814</td>\n",
       "      <td>0.014604</td>\n",
       "    </tr>\n",
       "    <tr>\n",
       "      <th>10</th>\n",
       "      <td>Beurre, Ghee</td>\n",
       "      <td>7346.551064</td>\n",
       "      <td>0.008998</td>\n",
       "    </tr>\n",
       "    <tr>\n",
       "      <th>63</th>\n",
       "      <td>Palmistes</td>\n",
       "      <td>6496.635000</td>\n",
       "      <td>NaN</td>\n",
       "    </tr>\n",
       "    <tr>\n",
       "      <th>87</th>\n",
       "      <td>Sésame</td>\n",
       "      <td>5819.781625</td>\n",
       "      <td>0.176118</td>\n",
       "    </tr>\n",
       "    <tr>\n",
       "      <th>6</th>\n",
       "      <td>Arachides Decortiquees</td>\n",
       "      <td>5706.928520</td>\n",
       "      <td>0.251573</td>\n",
       "    </tr>\n",
       "  </tbody>\n",
       "</table>\n",
       "</div>"
      ],
      "text/plain": [
       "                     Produit   ratio_kcal  ratio_prot\n",
       "45  Huiles de Foie de Poisso  9982.932500         NaN\n",
       "42       Huile de Son de Riz  9379.568137    0.006927\n",
       "43           Huile de Sésame  9314.546692         NaN\n",
       "46        Huiles de Poissons  9003.715504         NaN\n",
       "34          Huile d'Arachide  8925.582634    0.010132\n",
       "38    Huile de Germe de Maïs  8914.635341    0.007495\n",
       "35             Huile d'Olive  8891.111102         NaN\n",
       "32   Huil Plantes Oleif Autr  8867.128294    0.011281\n",
       "40        Huile de Palmistes  8797.863661    0.006703\n",
       "33    Huile Graines de Coton  8743.068709    0.005643\n",
       "39            Huile de Palme  8719.497538    0.004927\n",
       "44        Huile de Tournesol  8676.050458    0.002850\n",
       "41             Huile de Soja  8648.531981    0.003208\n",
       "37   Huile de Colza&Moutarde  8625.014786    0.003939\n",
       "36             Huile de Coco  8536.524516    0.007418\n",
       "30    Graisses Animales Crue  7603.648814    0.014604\n",
       "10              Beurre, Ghee  7346.551064    0.008998\n",
       "63                 Palmistes  6496.635000         NaN\n",
       "87                    Sésame  5819.781625    0.176118\n",
       "6     Arachides Decortiquees  5706.928520    0.251573"
      ]
     },
     "execution_count": 39,
     "metadata": {},
     "output_type": "execute_result"
    }
   ],
   "source": [
    "table_ratio_kcal_produit.sort_values('ratio_kcal', ascending = False).head(20)"
   ]
  },
  {
   "cell_type": "markdown",
   "id": "430ae3fb",
   "metadata": {},
   "source": [
    "Les  premiers aliments parmis les 20 les plus calorifique sont: **Huiles de Foie de Poisso, Huile de Son de Riz, Huile de Sésame, Huiles de Poissons, Huile d'Arachide**"
   ]
  },
  {
   "cell_type": "markdown",
   "id": "32bd8e42",
   "metadata": {},
   "source": [
    "### Citez 5 aliments parmi les 20 aliments les plus riches en protéines"
   ]
  },
  {
   "cell_type": "code",
   "execution_count": 40,
   "id": "7170901e",
   "metadata": {},
   "outputs": [
    {
     "data": {
      "text/html": [
       "<div>\n",
       "<style scoped>\n",
       "    .dataframe tbody tr th:only-of-type {\n",
       "        vertical-align: middle;\n",
       "    }\n",
       "\n",
       "    .dataframe tbody tr th {\n",
       "        vertical-align: top;\n",
       "    }\n",
       "\n",
       "    .dataframe thead th {\n",
       "        text-align: right;\n",
       "    }\n",
       "</style>\n",
       "<table border=\"1\" class=\"dataframe\">\n",
       "  <thead>\n",
       "    <tr style=\"text-align: right;\">\n",
       "      <th></th>\n",
       "      <th>Produit</th>\n",
       "      <th>ratio_kcal</th>\n",
       "      <th>ratio_prot</th>\n",
       "    </tr>\n",
       "  </thead>\n",
       "  <tbody>\n",
       "    <tr>\n",
       "      <th>27</th>\n",
       "      <td>Graines Colza/Moutarde</td>\n",
       "      <td>4178.462736</td>\n",
       "      <td>0.285365</td>\n",
       "    </tr>\n",
       "    <tr>\n",
       "      <th>81</th>\n",
       "      <td>Soja</td>\n",
       "      <td>3311.134447</td>\n",
       "      <td>0.285156</td>\n",
       "    </tr>\n",
       "    <tr>\n",
       "      <th>6</th>\n",
       "      <td>Arachides Decortiquees</td>\n",
       "      <td>5706.928520</td>\n",
       "      <td>0.251573</td>\n",
       "    </tr>\n",
       "    <tr>\n",
       "      <th>70</th>\n",
       "      <td>Pois</td>\n",
       "      <td>3475.637480</td>\n",
       "      <td>0.223219</td>\n",
       "    </tr>\n",
       "    <tr>\n",
       "      <th>50</th>\n",
       "      <td>Légumineuses Autres</td>\n",
       "      <td>3426.751230</td>\n",
       "      <td>0.220334</td>\n",
       "    </tr>\n",
       "    <tr>\n",
       "      <th>31</th>\n",
       "      <td>Haricots</td>\n",
       "      <td>3424.794082</td>\n",
       "      <td>0.216532</td>\n",
       "    </tr>\n",
       "    <tr>\n",
       "      <th>87</th>\n",
       "      <td>Sésame</td>\n",
       "      <td>5819.781625</td>\n",
       "      <td>0.176118</td>\n",
       "    </tr>\n",
       "    <tr>\n",
       "      <th>0</th>\n",
       "      <td>Abats Comestible</td>\n",
       "      <td>1130.422533</td>\n",
       "      <td>0.175587</td>\n",
       "    </tr>\n",
       "    <tr>\n",
       "      <th>95</th>\n",
       "      <td>Viande, Autre</td>\n",
       "      <td>1294.463333</td>\n",
       "      <td>0.174632</td>\n",
       "    </tr>\n",
       "    <tr>\n",
       "      <th>69</th>\n",
       "      <td>Plantes Oleiferes, Autre</td>\n",
       "      <td>4350.089305</td>\n",
       "      <td>0.172627</td>\n",
       "    </tr>\n",
       "    <tr>\n",
       "      <th>3</th>\n",
       "      <td>Aliments pour enfants</td>\n",
       "      <td>3670.050309</td>\n",
       "      <td>0.148175</td>\n",
       "    </tr>\n",
       "    <tr>\n",
       "      <th>92</th>\n",
       "      <td>Viande de Bovins</td>\n",
       "      <td>1685.444556</td>\n",
       "      <td>0.143742</td>\n",
       "    </tr>\n",
       "    <tr>\n",
       "      <th>16</th>\n",
       "      <td>Cephalopodes</td>\n",
       "      <td>858.523953</td>\n",
       "      <td>0.139336</td>\n",
       "    </tr>\n",
       "    <tr>\n",
       "      <th>90</th>\n",
       "      <td>Viande d'Ovins/Caprins</td>\n",
       "      <td>1987.376864</td>\n",
       "      <td>0.135848</td>\n",
       "    </tr>\n",
       "    <tr>\n",
       "      <th>94</th>\n",
       "      <td>Viande de Volailles</td>\n",
       "      <td>1299.811793</td>\n",
       "      <td>0.126262</td>\n",
       "    </tr>\n",
       "    <tr>\n",
       "      <th>67</th>\n",
       "      <td>Piments</td>\n",
       "      <td>3355.349012</td>\n",
       "      <td>0.121259</td>\n",
       "    </tr>\n",
       "    <tr>\n",
       "      <th>73</th>\n",
       "      <td>Poissons Pelagiques</td>\n",
       "      <td>932.811724</td>\n",
       "      <td>0.119464</td>\n",
       "    </tr>\n",
       "    <tr>\n",
       "      <th>29</th>\n",
       "      <td>Graines de tournesol</td>\n",
       "      <td>3223.703699</td>\n",
       "      <td>0.111759</td>\n",
       "    </tr>\n",
       "    <tr>\n",
       "      <th>72</th>\n",
       "      <td>Poissons Marins, Autres</td>\n",
       "      <td>776.097014</td>\n",
       "      <td>0.109995</td>\n",
       "    </tr>\n",
       "    <tr>\n",
       "      <th>97</th>\n",
       "      <td>Épices, Autres</td>\n",
       "      <td>3492.904538</td>\n",
       "      <td>0.107480</td>\n",
       "    </tr>\n",
       "  </tbody>\n",
       "</table>\n",
       "</div>"
      ],
      "text/plain": [
       "                     Produit   ratio_kcal  ratio_prot\n",
       "27    Graines Colza/Moutarde  4178.462736    0.285365\n",
       "81                      Soja  3311.134447    0.285156\n",
       "6     Arachides Decortiquees  5706.928520    0.251573\n",
       "70                      Pois  3475.637480    0.223219\n",
       "50       Légumineuses Autres  3426.751230    0.220334\n",
       "31                  Haricots  3424.794082    0.216532\n",
       "87                    Sésame  5819.781625    0.176118\n",
       "0           Abats Comestible  1130.422533    0.175587\n",
       "95             Viande, Autre  1294.463333    0.174632\n",
       "69  Plantes Oleiferes, Autre  4350.089305    0.172627\n",
       "3      Aliments pour enfants  3670.050309    0.148175\n",
       "92          Viande de Bovins  1685.444556    0.143742\n",
       "16              Cephalopodes   858.523953    0.139336\n",
       "90    Viande d'Ovins/Caprins  1987.376864    0.135848\n",
       "94       Viande de Volailles  1299.811793    0.126262\n",
       "67                   Piments  3355.349012    0.121259\n",
       "73       Poissons Pelagiques   932.811724    0.119464\n",
       "29      Graines de tournesol  3223.703699    0.111759\n",
       "72   Poissons Marins, Autres   776.097014    0.109995\n",
       "97            Épices, Autres  3492.904538    0.107480"
      ]
     },
     "execution_count": 40,
     "metadata": {},
     "output_type": "execute_result"
    }
   ],
   "source": [
    "table_ratio_prot_produit.sort_values('ratio_prot',ascending = False).head(20)"
   ]
  },
  {
   "cell_type": "markdown",
   "id": "dd3347c3",
   "metadata": {},
   "source": [
    "Les 5 premiers aliments parmis les 20 les plus riches en proteine sont:**Graines Colza/Moutarde, Soja, Arachides Decortiquees, Pois, Légumineuses Autres**."
   ]
  },
  {
   "cell_type": "markdown",
   "id": "ea42356f",
   "metadata": {},
   "source": [
    "## Question 6\n",
    "Calculons, pour les produits végétaux uniquement, la disponibilité intérieure mondiale exprimée en kcal"
   ]
  },
  {
   "cell_type": "code",
   "execution_count": 41,
   "id": "1ec4d040",
   "metadata": {},
   "outputs": [],
   "source": [
    "# sélectionnons uniquement les produits d'origine végétale.\n",
    "table_jointe_veg = table_jointe.loc[table_jointe['Origine']== 'végétal', :]\n"
   ]
  },
  {
   "cell_type": "code",
   "execution_count": 42,
   "id": "ad8f429b",
   "metadata": {},
   "outputs": [
    {
     "data": {
      "text/plain": [
       "1.3780136677764188e+16"
      ]
     },
     "execution_count": 42,
     "metadata": {},
     "output_type": "execute_result"
    }
   ],
   "source": [
    "# La disponibilité intérieur devant être donnée en kcal nous aurons besoin de la table des ratios.\n",
    "# faisons une jointure de nos deux tables\n",
    "table_jointe_veg = pd.merge(table_jointe_veg,table_ratio_prot_produit, on = 'Produit', how = 'left')\n",
    "table_jointe_veg['dispo_int_kcal'] = table_jointe_veg['Disponibilité intérieure'] * table_jointe_veg['ratio_kcal']\n",
    "dispo_int_kcal= table_jointe_veg['dispo_int_kcal'].sum()\n",
    "dispo_int_kcal"
   ]
  },
  {
   "cell_type": "code",
   "execution_count": 43,
   "id": "62be5de0",
   "metadata": {},
   "outputs": [
    {
     "data": {
      "text/plain": [
       "count    1.117100e+04\n",
       "mean     1.233563e+12\n",
       "std      1.420747e+13\n",
       "min     -1.492081e+13\n",
       "25%      0.000000e+00\n",
       "50%      1.299327e+10\n",
       "75%      1.547445e+11\n",
       "max      8.820138e+14\n",
       "Name: dispo_int_kcal, dtype: float64"
      ]
     },
     "execution_count": 43,
     "metadata": {},
     "output_type": "execute_result"
    }
   ],
   "source": [
    "table_jointe_veg['dispo_int_kcal'].describe()"
   ]
  },
  {
   "cell_type": "markdown",
   "id": "ebb86271",
   "metadata": {},
   "source": [
    "Calculons également, pour les produits végétaux uniquement, la disponibilité intérieure mondiale exprimée en kg"
   ]
  },
  {
   "cell_type": "code",
   "execution_count": 44,
   "id": "f5af6b23",
   "metadata": {},
   "outputs": [
    {
     "data": {
      "text/plain": [
       "349177827738.2876"
      ]
     },
     "execution_count": 44,
     "metadata": {},
     "output_type": "execute_result"
    }
   ],
   "source": [
    "# Avec la disponibilité intérieure d'origine végétale et le ratio en prot trouvons le résultat en kg de proteine\n",
    "dispo_int_kg = (table_jointe_veg['Disponibilité intérieure']*table_jointe_veg['ratio_prot']).sum()\n",
    "dispo_int_kg"
   ]
  },
  {
   "cell_type": "markdown",
   "id": "75da539b",
   "metadata": {},
   "source": [
    "## Question 7:\n",
    "Combien d'humains pourraient être nourris si toute la disponibilité intérieure mondiale de produits végétaux était utilisée pour de la nourriture?\n"
   ]
  },
  {
   "cell_type": "code",
   "execution_count": 45,
   "id": "b734a68c",
   "metadata": {},
   "outputs": [
    {
     "data": {
      "text/plain": [
       "15101519646.864864"
      ]
     },
     "execution_count": 45,
     "metadata": {},
     "output_type": "execute_result"
    }
   ],
   "source": [
    "# on prendra comme valeur d'apport energétique quotidien nécessaire 2500kcal/j pour avoir le résultat en terme de calorie\n",
    "besoin_cal_annuel_pers = 2500*365\n",
    "humains_nouris_kcal = dispo_int_kcal/besoin_cal_annuel_pers\n",
    "humains_nouris_kcal"
   ]
  },
  {
   "cell_type": "code",
   "execution_count": 46,
   "id": "7fec555e",
   "metadata": {},
   "outputs": [
    {
     "name": "stdout",
     "output_type": "stream",
     "text": [
      "l'équivalent en calories du nombre d'humain que l'on pourrait nourrir est de 15101519646.86 , soit 215.8 % de la population mondiale.\n"
     ]
    }
   ],
   "source": [
    "print(\"l'équivalent en calories du nombre d'humain que l'on pourrait nourrir est de {} , soit {} % de la population mondiale.\".format(round(humains_nouris_kcal, 2), round(humains_nouris_kcal*100/pop_mondiale, 1)))"
   ]
  },
  {
   "cell_type": "code",
   "execution_count": 47,
   "id": "5c4b7cb6",
   "metadata": {},
   "outputs": [
    {
     "data": {
      "text/plain": [
       "16353018510.164503"
      ]
     },
     "execution_count": 47,
     "metadata": {},
     "output_type": "execute_result"
    }
   ],
   "source": [
    "#poids moyen d'un humain:65kg\n",
    "#considérons le besoin en protéines  moyen pour une personne= 0.9g/kg/jour à utiliser pour avoir le résultat en terme de kg\n",
    "besoin_prot_annuel_pers = 0.9*65*0.001*365\n",
    "humains_nouris_kg = dispo_int_kg/besoin_prot_annuel_pers\n",
    "humains_nouris_kg"
   ]
  },
  {
   "cell_type": "code",
   "execution_count": 48,
   "id": "8bc50108",
   "metadata": {},
   "outputs": [
    {
     "name": "stdout",
     "output_type": "stream",
     "text": [
      "on peut nourrir 16353018510.164503 d'humains en terme de protéine,soit 233.7 % de la population mondiale en 2013\n"
     ]
    }
   ],
   "source": [
    "print(\"on peut nourrir {} d'humains en terme de protéine,soit {} % de la population mondiale en 2013\".format(humains_nouris_kg,round((humains_nouris_kg/pop_mondiale)*100, 2)))"
   ]
  },
  {
   "cell_type": "markdown",
   "id": "988e6f9a",
   "metadata": {},
   "source": [
    "### Question 8:\n",
    "\n",
    "Combien d'humains pourraient être nourris si toute la disponibilité alimentaire en produits végétaux la nourriture végétale destinée aux animaux et les pertes de produits végétaux étaient utilisés pour de la nourriture ? Donnez les résultats en termes de calories, puis de protéines, et exprimez ensuite ces 2 résultats en pourcentage de la population mondiale."
   ]
  },
  {
   "cell_type": "code",
   "execution_count": 49,
   "id": "8ca5745f",
   "metadata": {},
   "outputs": [],
   "source": [
    "#créons une liste qui regroupe les trois élément en vue de faciliter la somme de ces élemnets qui représenterons la nourriture totale\n",
    "#col_list=['Nourriture', 'Aliments pour animaux', 'Pertes']\n",
    "#table_jointe_veg = table_jointe_veg.copy()\n",
    "\n",
    "table_jointe_veg['nour_total'] = table_jointe_veg[['Nourriture','Aliments pour animaux', 'Pertes']].sum(axis=1)"
   ]
  },
  {
   "cell_type": "code",
   "execution_count": 50,
   "id": "4602bd5b",
   "metadata": {},
   "outputs": [
    {
     "data": {
      "text/plain": [
       "10415832398.520512"
      ]
     },
     "execution_count": 50,
     "metadata": {},
     "output_type": "execute_result"
    }
   ],
   "source": [
    "# trouvons la nourriture total en kcal\n",
    "nour_kcal=(table_jointe_veg['nour_total']*table_jointe_veg['ratio_kcal']).sum()/besoin_cal_annuel_pers\n",
    "nour_kcal"
   ]
  },
  {
   "cell_type": "code",
   "execution_count": 51,
   "id": "e2c4681a",
   "metadata": {},
   "outputs": [],
   "source": [
    "# trouvons la nourriture total en kg de proteines\n",
    "nour_kgprot=(table_jointe_veg['nour_total']*table_jointe_veg['ratio_prot']).sum()/besoin_prot_annuel_pers"
   ]
  },
  {
   "cell_type": "code",
   "execution_count": 52,
   "id": "e7ecd708",
   "metadata": {},
   "outputs": [
    {
     "name": "stdout",
     "output_type": "stream",
     "text": [
      "on peut nourrir 10415832398.520512 d'humain en équivalent calorifique soit 148.9% de la population en 2013\n",
      "on peut nourrir 10047984897.607779 d'humain en équivalent proteines soit 143.6% de la population en 2013\n"
     ]
    }
   ],
   "source": [
    "print(\"on peut nourrir {} d'humain en équivalent calorifique soit {}% de la population en 2013\".format(nour_kcal,round((nour_kcal/pop_mondiale)*100, 1)))\n",
    "print(\"on peut nourrir {} d'humain en équivalent proteines soit {}% de la population en 2013\".format(nour_kgprot,round((nour_kgprot/pop_mondiale)*100, 1)))"
   ]
  },
  {
   "cell_type": "markdown",
   "id": "b6adb12e",
   "metadata": {},
   "source": [
    "## Question 9 : \n",
    "Combien d'humains pourraient être nourris avec la disponibilité alimentaire mondiale ? Donnez les résultats en termes de calories, puis de protéines, et exprimez ensuite ces 2 résultats en pourcentage de la population mondiale."
   ]
  },
  {
   "cell_type": "code",
   "execution_count": 53,
   "id": "d6c5ef62",
   "metadata": {},
   "outputs": [
    {
     "name": "stdout",
     "output_type": "stream",
     "text": [
      "on peut nourrir 8070616278.0 d'humain en terme de calorie soit 115.3 % de la population mondiale en 2013\n"
     ]
    }
   ],
   "source": [
    "#trouvons le nombre de personnes que l'on pourrait nourrir avec la disponibilité alimentaire mondiale en calories\n",
    "dispo_ali_kcal = table_jointe['dispo_alim_kcal'].sum()\n",
    "nbr_humain_disp_al_kcal = dispo_ali_kcal/besoin_cal_annuel_pers\n",
    "print(\"on peut nourrir {} d'humain en terme de calorie soit {} % de la population mondiale en 2013\".format(round(nbr_humain_disp_al_kcal, 2),round((nbr_humain_disp_al_kcal/pop_mondiale)*100, 1)))\n"
   ]
  },
  {
   "cell_type": "code",
   "execution_count": 54,
   "id": "77fcdfae",
   "metadata": {},
   "outputs": [
    {
     "name": "stdout",
     "output_type": "stream",
     "text": [
      "on peut nourrir 9706083340.0 d'humain en terme de proteines soit 138.7 % de la population mondiale en 2013\n"
     ]
    }
   ],
   "source": [
    "#trouvons le nombre de personne que l'on pourrait nourrir avec la disponibilité alimentaire mondiale en proteines\n",
    "dispo_ali_kgprot = table_jointe['dispo_alim_kgprot'].sum()\n",
    "nbr_humain_disp_al_prot = dispo_ali_kgprot/besoin_prot_annuel_pers\n",
    "print(\"on peut nourrir {} d'humain en terme de proteines soit {} % de la population mondiale en 2013\".format(round(nbr_humain_disp_al_prot, 2),round((nbr_humain_disp_al_prot/pop_mondiale)*100, 1)))"
   ]
  },
  {
   "cell_type": "markdown",
   "id": "3f54c983",
   "metadata": {},
   "source": [
    "## Question 10:\n",
    "A partir des données téléchargées qui concernent la sous-nutrition, determinons la proportion de la population mondiale considérée comme étant en sous-nutrition ?"
   ]
  },
  {
   "cell_type": "code",
   "execution_count": 55,
   "id": "3a0d2aed",
   "metadata": {},
   "outputs": [],
   "source": [
    "#supprimons les dupplications de pays dans notre table sous alimentation\n",
    "\n",
    "sousalimentation.drop(sousalimentation.loc[sousalimentation['Zone'].isin(chn)].index, inplace = True)"
   ]
  },
  {
   "cell_type": "code",
   "execution_count": 56,
   "id": "ec5d9bf6",
   "metadata": {},
   "outputs": [
    {
     "data": {
      "text/html": [
       "<div>\n",
       "<style scoped>\n",
       "    .dataframe tbody tr th:only-of-type {\n",
       "        vertical-align: middle;\n",
       "    }\n",
       "\n",
       "    .dataframe tbody tr th {\n",
       "        vertical-align: top;\n",
       "    }\n",
       "\n",
       "    .dataframe thead th {\n",
       "        text-align: right;\n",
       "    }\n",
       "</style>\n",
       "<table border=\"1\" class=\"dataframe\">\n",
       "  <thead>\n",
       "    <tr style=\"text-align: right;\">\n",
       "      <th></th>\n",
       "      <th>Code Domaine</th>\n",
       "      <th>Domaine</th>\n",
       "      <th>Code zone</th>\n",
       "      <th>Zone</th>\n",
       "      <th>Code Élément</th>\n",
       "      <th>Élément</th>\n",
       "      <th>Code Produit</th>\n",
       "      <th>Produit</th>\n",
       "      <th>Code année</th>\n",
       "      <th>Année</th>\n",
       "      <th>Unité</th>\n",
       "      <th>Valeur</th>\n",
       "      <th>Symbole</th>\n",
       "      <th>Description du Symbole</th>\n",
       "      <th>Note</th>\n",
       "    </tr>\n",
       "  </thead>\n",
       "  <tbody>\n",
       "    <tr>\n",
       "      <th>0</th>\n",
       "      <td>FS</td>\n",
       "      <td>Données de la sécurité alimentaire</td>\n",
       "      <td>2</td>\n",
       "      <td>Afghanistan</td>\n",
       "      <td>6132</td>\n",
       "      <td>Valeur</td>\n",
       "      <td>210011</td>\n",
       "      <td>Nombre de personnes sous-alimentées (millions)...</td>\n",
       "      <td>20122014</td>\n",
       "      <td>2013</td>\n",
       "      <td>millions</td>\n",
       "      <td>7.9</td>\n",
       "      <td>F</td>\n",
       "      <td>Estimation FAO</td>\n",
       "      <td>NaN</td>\n",
       "    </tr>\n",
       "    <tr>\n",
       "      <th>1</th>\n",
       "      <td>FS</td>\n",
       "      <td>Données de la sécurité alimentaire</td>\n",
       "      <td>2</td>\n",
       "      <td>Afghanistan</td>\n",
       "      <td>6132</td>\n",
       "      <td>Valeur</td>\n",
       "      <td>210011</td>\n",
       "      <td>Nombre de personnes sous-alimentées (millions)...</td>\n",
       "      <td>20132015</td>\n",
       "      <td>2014</td>\n",
       "      <td>millions</td>\n",
       "      <td>8.8</td>\n",
       "      <td>F</td>\n",
       "      <td>Estimation FAO</td>\n",
       "      <td>NaN</td>\n",
       "    </tr>\n",
       "  </tbody>\n",
       "</table>\n",
       "</div>"
      ],
      "text/plain": [
       "  Code Domaine                             Domaine  Code zone         Zone  \\\n",
       "0           FS  Données de la sécurité alimentaire          2  Afghanistan   \n",
       "1           FS  Données de la sécurité alimentaire          2  Afghanistan   \n",
       "\n",
       "   Code Élément Élément  Code Produit  \\\n",
       "0          6132  Valeur        210011   \n",
       "1          6132  Valeur        210011   \n",
       "\n",
       "                                             Produit  Code année Année  \\\n",
       "0  Nombre de personnes sous-alimentées (millions)...    20122014  2013   \n",
       "1  Nombre de personnes sous-alimentées (millions)...    20132015  2014   \n",
       "\n",
       "      Unité Valeur Symbole Description du Symbole  Note  \n",
       "0  millions    7.9       F         Estimation FAO   NaN  \n",
       "1  millions    8.8       F         Estimation FAO   NaN  "
      ]
     },
     "execution_count": 56,
     "metadata": {},
     "output_type": "execute_result"
    }
   ],
   "source": [
    "#changeons le format des années\n",
    "\n",
    "sousalimentation['Année']= sousalimentation['Année'].replace({'2012-2014':'2013','2013-2015':'2014','2014-2016':'2015','2015-2017':'2016','2016-2018':'2017'})\n",
    "sousalimentation.head(2)"
   ]
  },
  {
   "cell_type": "code",
   "execution_count": 57,
   "id": "b831fb40",
   "metadata": {},
   "outputs": [
    {
     "name": "stdout",
     "output_type": "stream",
     "text": [
      "743800000 d'humain soit, 10.63% de la population mondiale est considérée comme étant sous-nutrition en 2013\n"
     ]
    }
   ],
   "source": [
    "#convertissons  notre colonne Valeur qui est de types OBJET en numeric pour gérer les cas de valeur <0.1 present dans nos données\n",
    "\n",
    "sousalimentation['Valeur'] = pd.to_numeric(sousalimentation['Valeur'],errors = 'coerce')\n",
    "\n",
    "# convertissons la valeur de la population sous alimenté car elle est en million d'habitant\n",
    "sousalimentation['Valeur']=sousalimentation['Valeur']*1000000\n",
    "\n",
    "\n",
    "# prenons uniquement les sous-alimentations sur l'année 2013\n",
    "sousal_annee= sousalimentation[sousalimentation['Année']=='2013']\n",
    "sousal_annee = sousal_annee.copy()\n",
    "\n",
    "nbr_pers_sousalimente = sousal_annee['Valeur'].sum()\n",
    "print(\"{} d'humain soit, {}% de la population mondiale est considérée comme étant sous-nutrition en 2013\".format(round(nbr_pers_sousalimente),round((nbr_pers_sousalimente/pop_mondiale)*100, 2)))"
   ]
  },
  {
   "cell_type": "code",
   "execution_count": 58,
   "id": "cdd95ab2",
   "metadata": {},
   "outputs": [
    {
     "data": {
      "text/plain": [
       "'\\nplt.rcdefaults()\\n\\nvalues = [round((nbr_pers_sousalimente/pop_mondiale)*100), prop_anim_cer]\\ncolors = [\\'m\\',\\'g\\']\\nexplode = [ 0, 0.01]\\nlabels = [\"Proportion de céréale pour l\\'alimentation humaine\", \"Proportion de céréale pour l\\'alimentation animale\"]\\nplt.pie(values, colors= colors, labels=labels, explode = explode, autopct=\\'%1.1f%%\\', shadow=True)\\nplt.title(\\'Repartion de céréale\\')\\nplt.show()\\n'"
      ]
     },
     "execution_count": 58,
     "metadata": {},
     "output_type": "execute_result"
    }
   ],
   "source": [
    "\"\"\"\n",
    "plt.rcdefaults()\n",
    "\n",
    "values = [round((nbr_pers_sousalimente/pop_mondiale)*100), prop_anim_cer]\n",
    "colors = ['m','g']\n",
    "explode = [ 0, 0.01]\n",
    "labels = [\"Proportion de céréale pour l'alimentation humaine\", \"Proportion de céréale pour l'alimentation animale\"]\n",
    "plt.pie(values, colors= colors, labels=labels, explode = explode, autopct='%1.1f%%', shadow=True)\n",
    "plt.title('Repartion de céréale')\n",
    "plt.show()\n",
    "\"\"\""
   ]
  },
  {
   "cell_type": "markdown",
   "id": "801f88ba",
   "metadata": {},
   "source": [
    "#### travail sur la table céréales"
   ]
  },
  {
   "cell_type": "code",
   "execution_count": 59,
   "id": "fbfb5966",
   "metadata": {},
   "outputs": [],
   "source": [
    "# supprimons les duplications de pays dans notre table céréales\n",
    "cereales.drop(cereales.loc[cereales['Zone'].isin(chn)].index, inplace = True)"
   ]
  },
  {
   "cell_type": "code",
   "execution_count": 60,
   "id": "a341783d",
   "metadata": {},
   "outputs": [
    {
     "data": {
      "text/html": [
       "<div>\n",
       "<style scoped>\n",
       "    .dataframe tbody tr th:only-of-type {\n",
       "        vertical-align: middle;\n",
       "    }\n",
       "\n",
       "    .dataframe tbody tr th {\n",
       "        vertical-align: top;\n",
       "    }\n",
       "\n",
       "    .dataframe thead th {\n",
       "        text-align: right;\n",
       "    }\n",
       "</style>\n",
       "<table border=\"1\" class=\"dataframe\">\n",
       "  <thead>\n",
       "    <tr style=\"text-align: right;\">\n",
       "      <th></th>\n",
       "      <th>Code Produit</th>\n",
       "      <th>Produit</th>\n",
       "    </tr>\n",
       "  </thead>\n",
       "  <tbody>\n",
       "    <tr>\n",
       "      <th>0</th>\n",
       "      <td>2511</td>\n",
       "      <td>Blé</td>\n",
       "    </tr>\n",
       "    <tr>\n",
       "      <th>1</th>\n",
       "      <td>2805</td>\n",
       "      <td>Riz (Eq Blanchi)</td>\n",
       "    </tr>\n",
       "    <tr>\n",
       "      <th>2</th>\n",
       "      <td>2513</td>\n",
       "      <td>Orge</td>\n",
       "    </tr>\n",
       "    <tr>\n",
       "      <th>3</th>\n",
       "      <td>2514</td>\n",
       "      <td>Maïs</td>\n",
       "    </tr>\n",
       "    <tr>\n",
       "      <th>4</th>\n",
       "      <td>2517</td>\n",
       "      <td>Millet</td>\n",
       "    </tr>\n",
       "    <tr>\n",
       "      <th>9</th>\n",
       "      <td>2515</td>\n",
       "      <td>Seigle</td>\n",
       "    </tr>\n",
       "    <tr>\n",
       "      <th>10</th>\n",
       "      <td>2516</td>\n",
       "      <td>Avoine</td>\n",
       "    </tr>\n",
       "    <tr>\n",
       "      <th>12</th>\n",
       "      <td>2518</td>\n",
       "      <td>Sorgho</td>\n",
       "    </tr>\n",
       "    <tr>\n",
       "      <th>13</th>\n",
       "      <td>2520</td>\n",
       "      <td>Céréales, Autres</td>\n",
       "    </tr>\n",
       "  </tbody>\n",
       "</table>\n",
       "</div>"
      ],
      "text/plain": [
       "    Code Produit           Produit\n",
       "0           2511               Blé\n",
       "1           2805  Riz (Eq Blanchi)\n",
       "2           2513              Orge\n",
       "3           2514              Maïs\n",
       "4           2517            Millet\n",
       "9           2515            Seigle\n",
       "10          2516            Avoine\n",
       "12          2518            Sorgho\n",
       "13          2520  Céréales, Autres"
      ]
     },
     "execution_count": 60,
     "metadata": {},
     "output_type": "execute_result"
    }
   ],
   "source": [
    "# Sur la table céréale, affichons les codes produits et produits\n",
    "cereales_reduit = cereales[[\"Code Produit\",\"Produit\"]].drop_duplicates(subset=[\"Code Produit\", \"Produit\"])\n",
    "cereales_reduit"
   ]
  },
  {
   "cell_type": "code",
   "execution_count": 61,
   "id": "a3bb8e4b",
   "metadata": {},
   "outputs": [],
   "source": [
    "# créons une colonne nommée 'is-cereal' dans notre table jointe\n",
    "table_jointe['is_cereal'] = table_jointe['Produit'].isin( cereales_reduit['Produit'])"
   ]
  },
  {
   "cell_type": "markdown",
   "id": "b564ba13",
   "metadata": {},
   "source": [
    "#### Liste des produits considérés comme des céréales selon la FAO"
   ]
  },
  {
   "cell_type": "code",
   "execution_count": 62,
   "id": "be6d4bbd",
   "metadata": {},
   "outputs": [
    {
     "data": {
      "text/html": [
       "<div>\n",
       "<style scoped>\n",
       "    .dataframe tbody tr th:only-of-type {\n",
       "        vertical-align: middle;\n",
       "    }\n",
       "\n",
       "    .dataframe tbody tr th {\n",
       "        vertical-align: top;\n",
       "    }\n",
       "\n",
       "    .dataframe thead th {\n",
       "        text-align: right;\n",
       "    }\n",
       "</style>\n",
       "<table border=\"1\" class=\"dataframe\">\n",
       "  <thead>\n",
       "    <tr style=\"text-align: right;\">\n",
       "      <th></th>\n",
       "      <th>Produit</th>\n",
       "      <th>Code Produit</th>\n",
       "    </tr>\n",
       "  </thead>\n",
       "  <tbody>\n",
       "    <tr>\n",
       "      <th>0</th>\n",
       "      <td>Avoine</td>\n",
       "      <td>2516</td>\n",
       "    </tr>\n",
       "    <tr>\n",
       "      <th>1</th>\n",
       "      <td>Blé</td>\n",
       "      <td>2511</td>\n",
       "    </tr>\n",
       "    <tr>\n",
       "      <th>2</th>\n",
       "      <td>Céréales, Autres</td>\n",
       "      <td>2520</td>\n",
       "    </tr>\n",
       "    <tr>\n",
       "      <th>3</th>\n",
       "      <td>Maïs</td>\n",
       "      <td>2514</td>\n",
       "    </tr>\n",
       "    <tr>\n",
       "      <th>4</th>\n",
       "      <td>Millet</td>\n",
       "      <td>2517</td>\n",
       "    </tr>\n",
       "    <tr>\n",
       "      <th>5</th>\n",
       "      <td>Orge</td>\n",
       "      <td>2513</td>\n",
       "    </tr>\n",
       "    <tr>\n",
       "      <th>6</th>\n",
       "      <td>Riz (Eq Blanchi)</td>\n",
       "      <td>2805</td>\n",
       "    </tr>\n",
       "    <tr>\n",
       "      <th>7</th>\n",
       "      <td>Seigle</td>\n",
       "      <td>2515</td>\n",
       "    </tr>\n",
       "    <tr>\n",
       "      <th>8</th>\n",
       "      <td>Sorgho</td>\n",
       "      <td>2518</td>\n",
       "    </tr>\n",
       "  </tbody>\n",
       "</table>\n",
       "</div>"
      ],
      "text/plain": [
       "            Produit  Code Produit\n",
       "0            Avoine          2516\n",
       "1               Blé          2511\n",
       "2  Céréales, Autres          2520\n",
       "3              Maïs          2514\n",
       "4            Millet          2517\n",
       "5              Orge          2513\n",
       "6  Riz (Eq Blanchi)          2805\n",
       "7            Seigle          2515\n",
       "8            Sorgho          2518"
      ]
     },
     "execution_count": 62,
     "metadata": {},
     "output_type": "execute_result"
    }
   ],
   "source": [
    "#filtrons uniquement les éléments ayant une correspondance avec les céréales\n",
    "table_cereal=table_jointe[table_jointe[\"is_cereal\"]==True]\n",
    "table_cereale= table_cereal.groupby(['Produit','Code Produit']).size().reset_index().rename(columns={0:'count'})\n",
    "table_cereale[['Produit','Code Produit']]"
   ]
  },
  {
   "cell_type": "markdown",
   "id": "510be809",
   "metadata": {},
   "source": [
    "## Question 11:\n",
    "En ne prenant en compte que les céréales destinées à l'alimentation (humaine et animale), quelle proportion (en termes de poids) est destinée à l'alimentation animale ?"
   ]
  },
  {
   "cell_type": "code",
   "execution_count": 63,
   "id": "bd724e8c",
   "metadata": {},
   "outputs": [],
   "source": [
    "#trouvons la quantité de céréales destinées à l'alimentation humaine\n",
    "nour_cer = table_cereal['Nourriture'].sum()"
   ]
  },
  {
   "cell_type": "code",
   "execution_count": 64,
   "id": "48df19dc",
   "metadata": {},
   "outputs": [],
   "source": [
    "#trouvons la quantité de céréales destinées  l'alimentation animale\n",
    "anim_cer = table_cereal['Aliments pour animaux'].sum()"
   ]
  },
  {
   "cell_type": "code",
   "execution_count": 65,
   "id": "2d749fd5",
   "metadata": {},
   "outputs": [
    {
     "data": {
      "text/plain": [
       "0.54"
      ]
     },
     "execution_count": 65,
     "metadata": {},
     "output_type": "execute_result"
    }
   ],
   "source": [
    "proportion_cereale_humaine = round(nour_cer/(nour_cer+anim_cer),2)\n",
    "proportion_cereale_humaine"
   ]
  },
  {
   "cell_type": "code",
   "execution_count": 66,
   "id": "361689a4",
   "metadata": {},
   "outputs": [
    {
     "name": "stdout",
     "output_type": "stream",
     "text": [
      "46.0 % de céréales sont destinées à l'alimentation pour animaux en ne prenant en compte que les céréales destinées à l'alimentation humaine et animale\n"
     ]
    }
   ],
   "source": [
    "#proportion de céréale destinée à l'alimentation animale\n",
    "prop_anim_cer = round(anim_cer/(nour_cer+anim_cer),2)\n",
    "print(\"{} % de céréales sont destinées à l'alimentation pour animaux en ne prenant en compte que les céréales destinées à l'alimentation humaine et animale\".format(prop_anim_cer*100))\n"
   ]
  },
  {
   "cell_type": "code",
   "execution_count": 67,
   "id": "0e34fcd4",
   "metadata": {},
   "outputs": [
    {
     "data": {
      "image/png": "[encoded data removed]",
      "text/plain": [
       "<Figure size 640x480 with 1 Axes>"
      ]
     },
     "metadata": {},
     "output_type": "display_data"
    }
   ],
   "source": [
    "\n",
    "\n",
    "plt.rcdefaults()\n",
    "\n",
    "values = [proportion_cereale_humaine, prop_anim_cer]\n",
    "colors = ['b','g']\n",
    "explode = [ 0, 0.01]\n",
    "labels = [\"Proportion de céréale pour l'alimentation humaine\", \"Proportion de céréale pour l'alimentation animale\"]\n",
    "plt.pie(values, colors= colors, labels=labels, explode = explode, autopct='%1.1f%%', shadow=True)\n",
    "plt.title(\"Repartion de céréale produite entre nourriture humaine et l'aliment pour animaux\")\n",
    "plt.show()\n"
   ]
  },
  {
   "cell_type": "markdown",
   "id": "5f31a500",
   "metadata": {},
   "source": [
    "Sélectionnez parmi les données des bilans alimentaires les informations relatives aux pays dans lesquels la FAO recense des personnes en sous-nutrition."
   ]
  },
  {
   "cell_type": "code",
   "execution_count": 68,
   "id": "915776bb",
   "metadata": {},
   "outputs": [
    {
     "data": {
      "text/plain": [
       "array(['Afghanistan', 'Afrique du Sud', 'Albanie', 'Algérie', 'Angola',\n",
       "       'Arabie saoudite', 'Argentine', 'Arménie', 'Bangladesh', 'Bénin',\n",
       "       'Bolivie (État plurinational de)', 'Botswana', 'Bulgarie',\n",
       "       'Burkina Faso', 'Cambodge', 'Cameroun', 'Chili', 'Chine',\n",
       "       'Colombie', 'Congo', 'Costa Rica', \"Côte d'Ivoire\", 'Djibouti',\n",
       "       'Égypte', 'El Salvador', 'Émirats arabes unis', 'Équateur',\n",
       "       'Eswatini', 'Éthiopie', 'Gabon', 'Gambie', 'Géorgie', 'Ghana',\n",
       "       'Guatemala', 'Guinée', 'Guinée-Bissau', 'Haïti', 'Honduras',\n",
       "       'Inde', 'Indonésie', \"Iran (République islamique d')\", 'Iraq',\n",
       "       'Jamaïque', 'Jordanie', 'Kenya', 'Kirghizistan', 'Koweït',\n",
       "       'Lesotho', 'Liban', 'Libéria', 'Madagascar', 'Malaisie', 'Malawi',\n",
       "       'Mali', 'Maroc', 'Mauritanie', 'Mexique', 'Mongolie', 'Mozambique',\n",
       "       'Myanmar', 'Namibie', 'Népal', 'Nicaragua', 'Niger', 'Nigéria',\n",
       "       'Oman', 'Ouganda', 'Ouzbékistan', 'Pakistan', 'Panama', 'Paraguay',\n",
       "       'Pérou', 'Philippines', 'République centrafricaine',\n",
       "       'République démocratique populaire lao', 'République dominicaine',\n",
       "       'République populaire démocratique de Corée',\n",
       "       'République-Unie de Tanzanie', 'Rwanda', 'Sénégal', 'Serbie',\n",
       "       'Sierra Leone', 'Slovaquie', 'Soudan', 'Sri Lanka', 'Tchad',\n",
       "       'Thaïlande', 'Timor-Leste', 'Togo', 'Tunisie', 'Turkménistan',\n",
       "       'Ukraine', 'Venezuela (République bolivarienne du)', 'Viet Nam',\n",
       "       'Yémen', 'Zambie', 'Zimbabwe'], dtype=object)"
      ]
     },
     "execution_count": 68,
     "metadata": {},
     "output_type": "execute_result"
    }
   ],
   "source": [
    "# trouvons la liste des pays ou l'on recence des personnes en sous-nutrition\n",
    "sousalimentation_pays = sousalimentation.loc[sousalimentation['Valeur']> 0 ,'Zone'].unique()\n",
    "sousalimentation_pays"
   ]
  },
  {
   "cell_type": "markdown",
   "id": "89a33207",
   "metadata": {},
   "source": [
    "\n",
    "Repérez les 15 produits les plus exportés par ce groupe de pays"
   ]
  },
  {
   "cell_type": "code",
   "execution_count": 69,
   "id": "e106cf09",
   "metadata": {},
   "outputs": [
    {
     "data": {
      "text/html": [
       "<div>\n",
       "<style scoped>\n",
       "    .dataframe tbody tr th:only-of-type {\n",
       "        vertical-align: middle;\n",
       "    }\n",
       "\n",
       "    .dataframe tbody tr th {\n",
       "        vertical-align: top;\n",
       "    }\n",
       "\n",
       "    .dataframe thead th {\n",
       "        text-align: right;\n",
       "    }\n",
       "</style>\n",
       "<table border=\"1\" class=\"dataframe\">\n",
       "  <thead>\n",
       "    <tr style=\"text-align: right;\">\n",
       "      <th></th>\n",
       "      <th>Zone</th>\n",
       "      <th>Code zone</th>\n",
       "      <th>Code Produit</th>\n",
       "      <th>Année</th>\n",
       "      <th>Produit</th>\n",
       "      <th>Origine</th>\n",
       "      <th>Aliments pour animaux</th>\n",
       "      <th>Autres utilisations (non alimentaire)</th>\n",
       "      <th>Disponibilité alimentaire (Kcal/personne/jour)</th>\n",
       "      <th>Disponibilité alimentaire en quantité (kg/personne/an)</th>\n",
       "      <th>...</th>\n",
       "      <th>Nourriture</th>\n",
       "      <th>Pertes</th>\n",
       "      <th>Production</th>\n",
       "      <th>Semences</th>\n",
       "      <th>Traitement</th>\n",
       "      <th>Variation de stock</th>\n",
       "      <th>population</th>\n",
       "      <th>dispo_alim_kcal</th>\n",
       "      <th>dispo_alim_kgprot</th>\n",
       "      <th>is_cereal</th>\n",
       "    </tr>\n",
       "  </thead>\n",
       "  <tbody>\n",
       "    <tr>\n",
       "      <th>0</th>\n",
       "      <td>Afghanistan</td>\n",
       "      <td>2</td>\n",
       "      <td>2511</td>\n",
       "      <td>2013</td>\n",
       "      <td>Blé</td>\n",
       "      <td>végétal</td>\n",
       "      <td>NaN</td>\n",
       "      <td>NaN</td>\n",
       "      <td>1369.0</td>\n",
       "      <td>160.23</td>\n",
       "      <td>...</td>\n",
       "      <td>4.895000e+09</td>\n",
       "      <td>775000000.0</td>\n",
       "      <td>5.169000e+09</td>\n",
       "      <td>322000000.0</td>\n",
       "      <td>NaN</td>\n",
       "      <td>-350000000.0</td>\n",
       "      <td>30552000</td>\n",
       "      <td>1.526638e+13</td>\n",
       "      <td>411601126.8</td>\n",
       "      <td>True</td>\n",
       "    </tr>\n",
       "    <tr>\n",
       "      <th>1</th>\n",
       "      <td>Afghanistan</td>\n",
       "      <td>2</td>\n",
       "      <td>2513</td>\n",
       "      <td>2013</td>\n",
       "      <td>Orge</td>\n",
       "      <td>végétal</td>\n",
       "      <td>360000000.0</td>\n",
       "      <td>NaN</td>\n",
       "      <td>26.0</td>\n",
       "      <td>2.92</td>\n",
       "      <td>...</td>\n",
       "      <td>8.900000e+07</td>\n",
       "      <td>52000000.0</td>\n",
       "      <td>5.140000e+08</td>\n",
       "      <td>22000000.0</td>\n",
       "      <td>NaN</td>\n",
       "      <td>0.0</td>\n",
       "      <td>30552000</td>\n",
       "      <td>2.899385e+11</td>\n",
       "      <td>8809669.2</td>\n",
       "      <td>True</td>\n",
       "    </tr>\n",
       "  </tbody>\n",
       "</table>\n",
       "<p>2 rows × 25 columns</p>\n",
       "</div>"
      ],
      "text/plain": [
       "          Zone  Code zone  Code Produit  Année Produit  Origine  \\\n",
       "0  Afghanistan          2          2511   2013     Blé  végétal   \n",
       "1  Afghanistan          2          2513   2013    Orge  végétal   \n",
       "\n",
       "   Aliments pour animaux  Autres utilisations (non alimentaire)  \\\n",
       "0                    NaN                                    NaN   \n",
       "1            360000000.0                                    NaN   \n",
       "\n",
       "   Disponibilité alimentaire (Kcal/personne/jour)  \\\n",
       "0                                          1369.0   \n",
       "1                                            26.0   \n",
       "\n",
       "   Disponibilité alimentaire en quantité (kg/personne/an)  ...    Nourriture  \\\n",
       "0                                             160.23       ...  4.895000e+09   \n",
       "1                                               2.92       ...  8.900000e+07   \n",
       "\n",
       "        Pertes    Production     Semences  Traitement  Variation de stock  \\\n",
       "0  775000000.0  5.169000e+09  322000000.0         NaN        -350000000.0   \n",
       "1   52000000.0  5.140000e+08   22000000.0         NaN                 0.0   \n",
       "\n",
       "   population  dispo_alim_kcal  dispo_alim_kgprot  is_cereal  \n",
       "0    30552000     1.526638e+13        411601126.8       True  \n",
       "1    30552000     2.899385e+11          8809669.2       True  \n",
       "\n",
       "[2 rows x 25 columns]"
      ]
     },
     "execution_count": 69,
     "metadata": {},
     "output_type": "execute_result"
    }
   ],
   "source": [
    "# Sélectionnons les lignes qui correspondent aux pays ressencés pour la sous nutrition \n",
    "table_jointe_groupe_pays_sousal=table_jointe.loc[table_jointe['Zone'].isin (sousalimentation_pays), :]\n",
    "table_jointe_groupe_pays_sousal.head(2)"
   ]
  },
  {
   "cell_type": "code",
   "execution_count": 70,
   "id": "7eef6f5a",
   "metadata": {},
   "outputs": [
    {
     "data": {
      "text/html": [
       "<div>\n",
       "<style scoped>\n",
       "    .dataframe tbody tr th:only-of-type {\n",
       "        vertical-align: middle;\n",
       "    }\n",
       "\n",
       "    .dataframe tbody tr th {\n",
       "        vertical-align: top;\n",
       "    }\n",
       "\n",
       "    .dataframe thead th {\n",
       "        text-align: right;\n",
       "    }\n",
       "</style>\n",
       "<table border=\"1\" class=\"dataframe\">\n",
       "  <thead>\n",
       "    <tr style=\"text-align: right;\">\n",
       "      <th></th>\n",
       "      <th>Produit</th>\n",
       "      <th>Exportations - Quantité</th>\n",
       "    </tr>\n",
       "  </thead>\n",
       "  <tbody>\n",
       "    <tr>\n",
       "      <th>0</th>\n",
       "      <td>Maïs</td>\n",
       "      <td>5.470400e+10</td>\n",
       "    </tr>\n",
       "    <tr>\n",
       "      <th>1</th>\n",
       "      <td>Huile de Palme</td>\n",
       "      <td>4.632200e+10</td>\n",
       "    </tr>\n",
       "    <tr>\n",
       "      <th>2</th>\n",
       "      <td>Manioc</td>\n",
       "      <td>3.592300e+10</td>\n",
       "    </tr>\n",
       "    <tr>\n",
       "      <th>3</th>\n",
       "      <td>Blé</td>\n",
       "      <td>3.333100e+10</td>\n",
       "    </tr>\n",
       "    <tr>\n",
       "      <th>4</th>\n",
       "      <td>Riz (Eq Blanchi)</td>\n",
       "      <td>3.282700e+10</td>\n",
       "    </tr>\n",
       "    <tr>\n",
       "      <th>5</th>\n",
       "      <td>Sucre Eq Brut</td>\n",
       "      <td>2.552700e+10</td>\n",
       "    </tr>\n",
       "    <tr>\n",
       "      <th>6</th>\n",
       "      <td>Légumes, Autres</td>\n",
       "      <td>2.011800e+10</td>\n",
       "    </tr>\n",
       "    <tr>\n",
       "      <th>7</th>\n",
       "      <td>Bananes</td>\n",
       "      <td>1.783000e+10</td>\n",
       "    </tr>\n",
       "    <tr>\n",
       "      <th>8</th>\n",
       "      <td>Soja</td>\n",
       "      <td>1.590100e+10</td>\n",
       "    </tr>\n",
       "    <tr>\n",
       "      <th>9</th>\n",
       "      <td>Lait - Excl Beurre</td>\n",
       "      <td>1.550600e+10</td>\n",
       "    </tr>\n",
       "    <tr>\n",
       "      <th>10</th>\n",
       "      <td>Fruits, Autres</td>\n",
       "      <td>1.543000e+10</td>\n",
       "    </tr>\n",
       "    <tr>\n",
       "      <th>11</th>\n",
       "      <td>Poissons Pelagiques</td>\n",
       "      <td>1.375100e+10</td>\n",
       "    </tr>\n",
       "    <tr>\n",
       "      <th>12</th>\n",
       "      <td>Tomates</td>\n",
       "      <td>9.107000e+09</td>\n",
       "    </tr>\n",
       "    <tr>\n",
       "      <th>13</th>\n",
       "      <td>Orge</td>\n",
       "      <td>8.779000e+09</td>\n",
       "    </tr>\n",
       "    <tr>\n",
       "      <th>14</th>\n",
       "      <td>Pommes</td>\n",
       "      <td>8.385000e+09</td>\n",
       "    </tr>\n",
       "  </tbody>\n",
       "</table>\n",
       "</div>"
      ],
      "text/plain": [
       "                Produit  Exportations - Quantité\n",
       "0                  Maïs             5.470400e+10\n",
       "1        Huile de Palme             4.632200e+10\n",
       "2                Manioc             3.592300e+10\n",
       "3                   Blé             3.333100e+10\n",
       "4      Riz (Eq Blanchi)             3.282700e+10\n",
       "5         Sucre Eq Brut             2.552700e+10\n",
       "6       Légumes, Autres             2.011800e+10\n",
       "7               Bananes             1.783000e+10\n",
       "8                  Soja             1.590100e+10\n",
       "9    Lait - Excl Beurre             1.550600e+10\n",
       "10       Fruits, Autres             1.543000e+10\n",
       "11  Poissons Pelagiques             1.375100e+10\n",
       "12              Tomates             9.107000e+09\n",
       "13                 Orge             8.779000e+09\n",
       "14               Pommes             8.385000e+09"
      ]
     },
     "execution_count": 70,
     "metadata": {},
     "output_type": "execute_result"
    }
   ],
   "source": [
    "# Sélectionnons uniquement les exportations par produit\n",
    "exportation = table_jointe_groupe_pays_sousal[['Exportations - Quantité','Produit']].groupby(['Produit']).sum()\n",
    "table_exportation = exportation.sort_values('Exportations - Quantité', ascending =False).head(15)\n",
    "table_exportation.reset_index(inplace =True)\n",
    "table_exportation"
   ]
  },
  {
   "cell_type": "code",
   "execution_count": 71,
   "id": "2fc8b584",
   "metadata": {},
   "outputs": [],
   "source": [
    "# liste de ces produits importés \n",
    "liste_produit = table_exportation['Produit']"
   ]
  },
  {
   "cell_type": "markdown",
   "id": "2c5b8352",
   "metadata": {},
   "source": [
    "sélectionnez les 200 plus grandes importations de ces produits (1 importation = une quantité d'un produit donné importée par un pays donné)"
   ]
  },
  {
   "cell_type": "code",
   "execution_count": 72,
   "id": "a1a65881",
   "metadata": {},
   "outputs": [],
   "source": [
    "# trouvons la correspondance des produits de notre liste dans notre table jointe\n",
    "table_jointe_export_pays_sousal = table_jointe.loc[table_jointe['Produit'].isin(liste_produit), :]"
   ]
  },
  {
   "cell_type": "code",
   "execution_count": 73,
   "id": "c568812f",
   "metadata": {},
   "outputs": [
    {
     "data": {
      "text/html": [
       "<div>\n",
       "<style scoped>\n",
       "    .dataframe tbody tr th:only-of-type {\n",
       "        vertical-align: middle;\n",
       "    }\n",
       "\n",
       "    .dataframe tbody tr th {\n",
       "        vertical-align: top;\n",
       "    }\n",
       "\n",
       "    .dataframe thead th {\n",
       "        text-align: right;\n",
       "    }\n",
       "</style>\n",
       "<table border=\"1\" class=\"dataframe\">\n",
       "  <thead>\n",
       "    <tr style=\"text-align: right;\">\n",
       "      <th></th>\n",
       "      <th>Produit</th>\n",
       "      <th>Importations - Quantité</th>\n",
       "    </tr>\n",
       "  </thead>\n",
       "  <tbody>\n",
       "    <tr>\n",
       "      <th>3014</th>\n",
       "      <td>Soja</td>\n",
       "      <td>6.556400e+10</td>\n",
       "    </tr>\n",
       "    <tr>\n",
       "      <th>3001</th>\n",
       "      <td>Manioc</td>\n",
       "      <td>3.046600e+10</td>\n",
       "    </tr>\n",
       "    <tr>\n",
       "      <th>6744</th>\n",
       "      <td>Maïs</td>\n",
       "      <td>1.440300e+10</td>\n",
       "    </tr>\n",
       "    <tr>\n",
       "      <th>607</th>\n",
       "      <td>Orge</td>\n",
       "      <td>1.054700e+10</td>\n",
       "    </tr>\n",
       "    <tr>\n",
       "      <th>14779</th>\n",
       "      <td>Blé</td>\n",
       "      <td>1.033100e+10</td>\n",
       "    </tr>\n",
       "    <tr>\n",
       "      <th>...</th>\n",
       "      <td>...</td>\n",
       "      <td>...</td>\n",
       "    </tr>\n",
       "    <tr>\n",
       "      <th>2805</th>\n",
       "      <td>Maïs</td>\n",
       "      <td>1.035000e+09</td>\n",
       "    </tr>\n",
       "    <tr>\n",
       "      <th>2172</th>\n",
       "      <td>Lait - Excl Beurre</td>\n",
       "      <td>1.032000e+09</td>\n",
       "    </tr>\n",
       "    <tr>\n",
       "      <th>978</th>\n",
       "      <td>Blé</td>\n",
       "      <td>1.031000e+09</td>\n",
       "    </tr>\n",
       "    <tr>\n",
       "      <th>2899</th>\n",
       "      <td>Blé</td>\n",
       "      <td>1.022000e+09</td>\n",
       "    </tr>\n",
       "    <tr>\n",
       "      <th>6136</th>\n",
       "      <td>Huile de Palme</td>\n",
       "      <td>1.021000e+09</td>\n",
       "    </tr>\n",
       "  </tbody>\n",
       "</table>\n",
       "<p>200 rows × 2 columns</p>\n",
       "</div>"
      ],
      "text/plain": [
       "                  Produit  Importations - Quantité\n",
       "3014                 Soja             6.556400e+10\n",
       "3001               Manioc             3.046600e+10\n",
       "6744                 Maïs             1.440300e+10\n",
       "607                  Orge             1.054700e+10\n",
       "14779                 Blé             1.033100e+10\n",
       "...                   ...                      ...\n",
       "2805                 Maïs             1.035000e+09\n",
       "2172   Lait - Excl Beurre             1.032000e+09\n",
       "978                   Blé             1.031000e+09\n",
       "2899                  Blé             1.022000e+09\n",
       "6136       Huile de Palme             1.021000e+09\n",
       "\n",
       "[200 rows x 2 columns]"
      ]
     },
     "execution_count": 73,
     "metadata": {},
     "output_type": "execute_result"
    }
   ],
   "source": [
    "#sélectionnons uniquement les 200 premières importations\n",
    "importation_pays_sousali = table_jointe_export_pays_sousal.sort_values('Importations - Quantité',ascending =False).head(200)\n",
    "importation_pays_sousali[['Produit','Importations - Quantité']]"
   ]
  },
  {
   "cell_type": "code",
   "execution_count": 74,
   "id": "9afac468",
   "metadata": {},
   "outputs": [],
   "source": [
    "# sélectionnons les colonnes qui nous seront utiles pour la suite de nos calculs\n",
    "importation_pays_sousali = importation_pays_sousali[['Produit','Importations - Quantité','Nourriture','Aliments pour animaux','Autres utilisations (non alimentaire)','Disponibilité intérieure']]\n",
    "\n",
    "#Groupons ces importations par produit\n",
    "importation_pays_sousali = importation_pays_sousali.groupby('Produit').sum()\n",
    "importation_pays_sousali.reset_index(inplace=True)\n"
   ]
  },
  {
   "cell_type": "code",
   "execution_count": 75,
   "id": "e925be61",
   "metadata": {},
   "outputs": [
    {
     "data": {
      "text/html": [
       "<div>\n",
       "<style scoped>\n",
       "    .dataframe tbody tr th:only-of-type {\n",
       "        vertical-align: middle;\n",
       "    }\n",
       "\n",
       "    .dataframe tbody tr th {\n",
       "        vertical-align: top;\n",
       "    }\n",
       "\n",
       "    .dataframe thead th {\n",
       "        text-align: right;\n",
       "    }\n",
       "</style>\n",
       "<table border=\"1\" class=\"dataframe\">\n",
       "  <thead>\n",
       "    <tr style=\"text-align: right;\">\n",
       "      <th></th>\n",
       "      <th>Produit</th>\n",
       "      <th>Importations - Quantité</th>\n",
       "    </tr>\n",
       "  </thead>\n",
       "  <tbody>\n",
       "    <tr>\n",
       "      <th>0</th>\n",
       "      <td>Bananes</td>\n",
       "      <td>9.663000e+09</td>\n",
       "    </tr>\n",
       "    <tr>\n",
       "      <th>1</th>\n",
       "      <td>Blé</td>\n",
       "      <td>1.501400e+11</td>\n",
       "    </tr>\n",
       "    <tr>\n",
       "      <th>2</th>\n",
       "      <td>Fruits, Autres</td>\n",
       "      <td>1.695100e+10</td>\n",
       "    </tr>\n",
       "    <tr>\n",
       "      <th>3</th>\n",
       "      <td>Huile de Palme</td>\n",
       "      <td>3.105500e+10</td>\n",
       "    </tr>\n",
       "    <tr>\n",
       "      <th>4</th>\n",
       "      <td>Lait - Excl Beurre</td>\n",
       "      <td>9.102300e+10</td>\n",
       "    </tr>\n",
       "    <tr>\n",
       "      <th>5</th>\n",
       "      <td>Légumes, Autres</td>\n",
       "      <td>2.962500e+10</td>\n",
       "    </tr>\n",
       "    <tr>\n",
       "      <th>6</th>\n",
       "      <td>Manioc</td>\n",
       "      <td>3.475100e+10</td>\n",
       "    </tr>\n",
       "    <tr>\n",
       "      <th>7</th>\n",
       "      <td>Maïs</td>\n",
       "      <td>1.024890e+11</td>\n",
       "    </tr>\n",
       "    <tr>\n",
       "      <th>8</th>\n",
       "      <td>Orge</td>\n",
       "      <td>2.251500e+10</td>\n",
       "    </tr>\n",
       "    <tr>\n",
       "      <th>9</th>\n",
       "      <td>Poissons Pelagiques</td>\n",
       "      <td>1.437100e+10</td>\n",
       "    </tr>\n",
       "    <tr>\n",
       "      <th>10</th>\n",
       "      <td>Pommes</td>\n",
       "      <td>8.518000e+09</td>\n",
       "    </tr>\n",
       "    <tr>\n",
       "      <th>11</th>\n",
       "      <td>Riz (Eq Blanchi)</td>\n",
       "      <td>1.446000e+10</td>\n",
       "    </tr>\n",
       "    <tr>\n",
       "      <th>12</th>\n",
       "      <td>Soja</td>\n",
       "      <td>9.349700e+10</td>\n",
       "    </tr>\n",
       "    <tr>\n",
       "      <th>13</th>\n",
       "      <td>Sucre Eq Brut</td>\n",
       "      <td>3.507100e+10</td>\n",
       "    </tr>\n",
       "    <tr>\n",
       "      <th>14</th>\n",
       "      <td>Tomates</td>\n",
       "      <td>7.143000e+09</td>\n",
       "    </tr>\n",
       "  </tbody>\n",
       "</table>\n",
       "</div>"
      ],
      "text/plain": [
       "                Produit  Importations - Quantité\n",
       "0               Bananes             9.663000e+09\n",
       "1                   Blé             1.501400e+11\n",
       "2        Fruits, Autres             1.695100e+10\n",
       "3        Huile de Palme             3.105500e+10\n",
       "4    Lait - Excl Beurre             9.102300e+10\n",
       "5       Légumes, Autres             2.962500e+10\n",
       "6                Manioc             3.475100e+10\n",
       "7                  Maïs             1.024890e+11\n",
       "8                  Orge             2.251500e+10\n",
       "9   Poissons Pelagiques             1.437100e+10\n",
       "10               Pommes             8.518000e+09\n",
       "11     Riz (Eq Blanchi)             1.446000e+10\n",
       "12                 Soja             9.349700e+10\n",
       "13        Sucre Eq Brut             3.507100e+10\n",
       "14              Tomates             7.143000e+09"
      ]
     },
     "execution_count": 75,
     "metadata": {},
     "output_type": "execute_result"
    }
   ],
   "source": [
    "# affichons les 15 produits des 200 les plus importés et  ayant les plus grandes exportations\n",
    "importation_pays_sousali[['Produit','Importations - Quantité']]"
   ]
  },
  {
   "cell_type": "code",
   "execution_count": 76,
   "id": "b75bcbc2",
   "metadata": {},
   "outputs": [
    {
     "data": {
      "text/html": [
       "<div>\n",
       "<style scoped>\n",
       "    .dataframe tbody tr th:only-of-type {\n",
       "        vertical-align: middle;\n",
       "    }\n",
       "\n",
       "    .dataframe tbody tr th {\n",
       "        vertical-align: top;\n",
       "    }\n",
       "\n",
       "    .dataframe thead th {\n",
       "        text-align: right;\n",
       "    }\n",
       "</style>\n",
       "<table border=\"1\" class=\"dataframe\">\n",
       "  <thead>\n",
       "    <tr style=\"text-align: right;\">\n",
       "      <th></th>\n",
       "      <th>Produit</th>\n",
       "      <th>Importations - Quantité</th>\n",
       "      <th>Nourriture</th>\n",
       "      <th>Aliments pour animaux</th>\n",
       "      <th>Autres utilisations (non alimentaire)</th>\n",
       "      <th>Disponibilité intérieure</th>\n",
       "      <th>ratio_autre_uti_dispo_int</th>\n",
       "    </tr>\n",
       "  </thead>\n",
       "  <tbody>\n",
       "    <tr>\n",
       "      <th>0</th>\n",
       "      <td>Bananes</td>\n",
       "      <td>9.663000e+09</td>\n",
       "      <td>7.123000e+09</td>\n",
       "      <td>0.000000e+00</td>\n",
       "      <td>0.000000e+00</td>\n",
       "      <td>7.466000e+09</td>\n",
       "      <td>0.000000</td>\n",
       "    </tr>\n",
       "    <tr>\n",
       "      <th>1</th>\n",
       "      <td>Blé</td>\n",
       "      <td>1.501400e+11</td>\n",
       "      <td>3.037200e+11</td>\n",
       "      <td>9.871500e+10</td>\n",
       "      <td>1.512500e+10</td>\n",
       "      <td>4.603270e+11</td>\n",
       "      <td>0.032857</td>\n",
       "    </tr>\n",
       "    <tr>\n",
       "      <th>2</th>\n",
       "      <td>Fruits, Autres</td>\n",
       "      <td>1.695100e+10</td>\n",
       "      <td>6.848400e+10</td>\n",
       "      <td>0.000000e+00</td>\n",
       "      <td>1.200000e+07</td>\n",
       "      <td>7.452400e+10</td>\n",
       "      <td>0.000161</td>\n",
       "    </tr>\n",
       "    <tr>\n",
       "      <th>3</th>\n",
       "      <td>Huile de Palme</td>\n",
       "      <td>3.105500e+10</td>\n",
       "      <td>6.922000e+09</td>\n",
       "      <td>0.000000e+00</td>\n",
       "      <td>1.974700e+10</td>\n",
       "      <td>2.688600e+10</td>\n",
       "      <td>0.734471</td>\n",
       "    </tr>\n",
       "    <tr>\n",
       "      <th>4</th>\n",
       "      <td>Lait - Excl Beurre</td>\n",
       "      <td>9.102300e+10</td>\n",
       "      <td>3.320100e+11</td>\n",
       "      <td>2.913300e+10</td>\n",
       "      <td>1.247900e+10</td>\n",
       "      <td>3.780210e+11</td>\n",
       "      <td>0.033011</td>\n",
       "    </tr>\n",
       "  </tbody>\n",
       "</table>\n",
       "</div>"
      ],
      "text/plain": [
       "              Produit  Importations - Quantité    Nourriture  \\\n",
       "0             Bananes             9.663000e+09  7.123000e+09   \n",
       "1                 Blé             1.501400e+11  3.037200e+11   \n",
       "2      Fruits, Autres             1.695100e+10  6.848400e+10   \n",
       "3      Huile de Palme             3.105500e+10  6.922000e+09   \n",
       "4  Lait - Excl Beurre             9.102300e+10  3.320100e+11   \n",
       "\n",
       "   Aliments pour animaux  Autres utilisations (non alimentaire)  \\\n",
       "0           0.000000e+00                           0.000000e+00   \n",
       "1           9.871500e+10                           1.512500e+10   \n",
       "2           0.000000e+00                           1.200000e+07   \n",
       "3           0.000000e+00                           1.974700e+10   \n",
       "4           2.913300e+10                           1.247900e+10   \n",
       "\n",
       "   Disponibilité intérieure  ratio_autre_uti_dispo_int  \n",
       "0              7.466000e+09                   0.000000  \n",
       "1              4.603270e+11                   0.032857  \n",
       "2              7.452400e+10                   0.000161  \n",
       "3              2.688600e+10                   0.734471  \n",
       "4              3.780210e+11                   0.033011  "
      ]
     },
     "execution_count": 76,
     "metadata": {},
     "output_type": "execute_result"
    }
   ],
   "source": [
    "# calculons le ratio entre la quantité destinés aux \"Autres utilisations\" (Other uses) et la disponibilité intérieure.\n",
    "importation_pays_sousali['ratio_autre_uti_dispo_int']=importation_pays_sousali['Autres utilisations (non alimentaire)']/importation_pays_sousali['Disponibilité intérieure']\n",
    "importation_pays_sousali.head()"
   ]
  },
  {
   "cell_type": "code",
   "execution_count": 77,
   "id": "609cc2d8",
   "metadata": {},
   "outputs": [
    {
     "data": {
      "text/html": [
       "<div>\n",
       "<style scoped>\n",
       "    .dataframe tbody tr th:only-of-type {\n",
       "        vertical-align: middle;\n",
       "    }\n",
       "\n",
       "    .dataframe tbody tr th {\n",
       "        vertical-align: top;\n",
       "    }\n",
       "\n",
       "    .dataframe thead th {\n",
       "        text-align: right;\n",
       "    }\n",
       "</style>\n",
       "<table border=\"1\" class=\"dataframe\">\n",
       "  <thead>\n",
       "    <tr style=\"text-align: right;\">\n",
       "      <th></th>\n",
       "      <th>Produit</th>\n",
       "      <th>Importations - Quantité</th>\n",
       "      <th>Nourriture</th>\n",
       "      <th>Aliments pour animaux</th>\n",
       "      <th>Autres utilisations (non alimentaire)</th>\n",
       "      <th>Disponibilité intérieure</th>\n",
       "      <th>ratio_autre_uti_dispo_int</th>\n",
       "      <th>ratio_alianimaux_alimentanihumain</th>\n",
       "    </tr>\n",
       "  </thead>\n",
       "  <tbody>\n",
       "    <tr>\n",
       "      <th>0</th>\n",
       "      <td>Bananes</td>\n",
       "      <td>9.663000e+09</td>\n",
       "      <td>7.123000e+09</td>\n",
       "      <td>0.000000e+00</td>\n",
       "      <td>0.000000e+00</td>\n",
       "      <td>7.466000e+09</td>\n",
       "      <td>0.000000</td>\n",
       "      <td>0.000000</td>\n",
       "    </tr>\n",
       "    <tr>\n",
       "      <th>1</th>\n",
       "      <td>Blé</td>\n",
       "      <td>1.501400e+11</td>\n",
       "      <td>3.037200e+11</td>\n",
       "      <td>9.871500e+10</td>\n",
       "      <td>1.512500e+10</td>\n",
       "      <td>4.603270e+11</td>\n",
       "      <td>0.032857</td>\n",
       "      <td>0.245294</td>\n",
       "    </tr>\n",
       "    <tr>\n",
       "      <th>2</th>\n",
       "      <td>Fruits, Autres</td>\n",
       "      <td>1.695100e+10</td>\n",
       "      <td>6.848400e+10</td>\n",
       "      <td>0.000000e+00</td>\n",
       "      <td>1.200000e+07</td>\n",
       "      <td>7.452400e+10</td>\n",
       "      <td>0.000161</td>\n",
       "      <td>0.000000</td>\n",
       "    </tr>\n",
       "    <tr>\n",
       "      <th>3</th>\n",
       "      <td>Huile de Palme</td>\n",
       "      <td>3.105500e+10</td>\n",
       "      <td>6.922000e+09</td>\n",
       "      <td>0.000000e+00</td>\n",
       "      <td>1.974700e+10</td>\n",
       "      <td>2.688600e+10</td>\n",
       "      <td>0.734471</td>\n",
       "      <td>0.000000</td>\n",
       "    </tr>\n",
       "    <tr>\n",
       "      <th>4</th>\n",
       "      <td>Lait - Excl Beurre</td>\n",
       "      <td>9.102300e+10</td>\n",
       "      <td>3.320100e+11</td>\n",
       "      <td>2.913300e+10</td>\n",
       "      <td>1.247900e+10</td>\n",
       "      <td>3.780210e+11</td>\n",
       "      <td>0.033011</td>\n",
       "      <td>0.080669</td>\n",
       "    </tr>\n",
       "    <tr>\n",
       "      <th>5</th>\n",
       "      <td>Légumes, Autres</td>\n",
       "      <td>2.962500e+10</td>\n",
       "      <td>5.057570e+11</td>\n",
       "      <td>3.956200e+10</td>\n",
       "      <td>1.900000e+07</td>\n",
       "      <td>5.906750e+11</td>\n",
       "      <td>0.000032</td>\n",
       "      <td>0.072548</td>\n",
       "    </tr>\n",
       "    <tr>\n",
       "      <th>6</th>\n",
       "      <td>Manioc</td>\n",
       "      <td>3.475100e+10</td>\n",
       "      <td>1.526800e+10</td>\n",
       "      <td>2.515300e+10</td>\n",
       "      <td>2.035500e+10</td>\n",
       "      <td>6.734100e+10</td>\n",
       "      <td>0.302268</td>\n",
       "      <td>0.622276</td>\n",
       "    </tr>\n",
       "    <tr>\n",
       "      <th>7</th>\n",
       "      <td>Maïs</td>\n",
       "      <td>1.024890e+11</td>\n",
       "      <td>5.595000e+10</td>\n",
       "      <td>4.028870e+11</td>\n",
       "      <td>1.821180e+11</td>\n",
       "      <td>7.011040e+11</td>\n",
       "      <td>0.259759</td>\n",
       "      <td>0.878061</td>\n",
       "    </tr>\n",
       "    <tr>\n",
       "      <th>8</th>\n",
       "      <td>Orge</td>\n",
       "      <td>2.251500e+10</td>\n",
       "      <td>3.650000e+08</td>\n",
       "      <td>2.016000e+10</td>\n",
       "      <td>1.200000e+07</td>\n",
       "      <td>2.960000e+10</td>\n",
       "      <td>0.000405</td>\n",
       "      <td>0.982217</td>\n",
       "    </tr>\n",
       "    <tr>\n",
       "      <th>9</th>\n",
       "      <td>Poissons Pelagiques</td>\n",
       "      <td>1.437100e+10</td>\n",
       "      <td>4.052000e+09</td>\n",
       "      <td>1.309700e+10</td>\n",
       "      <td>4.000000e+07</td>\n",
       "      <td>1.719000e+10</td>\n",
       "      <td>0.002327</td>\n",
       "      <td>0.763718</td>\n",
       "    </tr>\n",
       "    <tr>\n",
       "      <th>10</th>\n",
       "      <td>Pommes</td>\n",
       "      <td>8.518000e+09</td>\n",
       "      <td>1.455700e+10</td>\n",
       "      <td>0.000000e+00</td>\n",
       "      <td>0.000000e+00</td>\n",
       "      <td>1.559200e+10</td>\n",
       "      <td>0.000000</td>\n",
       "      <td>0.000000</td>\n",
       "    </tr>\n",
       "    <tr>\n",
       "      <th>11</th>\n",
       "      <td>Riz (Eq Blanchi)</td>\n",
       "      <td>1.446000e+10</td>\n",
       "      <td>1.242360e+11</td>\n",
       "      <td>1.270900e+10</td>\n",
       "      <td>2.817000e+09</td>\n",
       "      <td>1.517510e+11</td>\n",
       "      <td>0.018563</td>\n",
       "      <td>0.092804</td>\n",
       "    </tr>\n",
       "    <tr>\n",
       "      <th>12</th>\n",
       "      <td>Soja</td>\n",
       "      <td>9.349700e+10</td>\n",
       "      <td>7.532000e+09</td>\n",
       "      <td>1.371000e+10</td>\n",
       "      <td>5.250000e+08</td>\n",
       "      <td>1.595930e+11</td>\n",
       "      <td>0.003290</td>\n",
       "      <td>0.645419</td>\n",
       "    </tr>\n",
       "    <tr>\n",
       "      <th>13</th>\n",
       "      <td>Sucre Eq Brut</td>\n",
       "      <td>3.507100e+10</td>\n",
       "      <td>6.582300e+10</td>\n",
       "      <td>0.000000e+00</td>\n",
       "      <td>3.009000e+09</td>\n",
       "      <td>7.932100e+10</td>\n",
       "      <td>0.037934</td>\n",
       "      <td>0.000000</td>\n",
       "    </tr>\n",
       "    <tr>\n",
       "      <th>14</th>\n",
       "      <td>Tomates</td>\n",
       "      <td>7.143000e+09</td>\n",
       "      <td>2.025200e+10</td>\n",
       "      <td>0.000000e+00</td>\n",
       "      <td>0.000000e+00</td>\n",
       "      <td>2.127700e+10</td>\n",
       "      <td>0.000000</td>\n",
       "      <td>0.000000</td>\n",
       "    </tr>\n",
       "  </tbody>\n",
       "</table>\n",
       "</div>"
      ],
      "text/plain": [
       "                Produit  Importations - Quantité    Nourriture  \\\n",
       "0               Bananes             9.663000e+09  7.123000e+09   \n",
       "1                   Blé             1.501400e+11  3.037200e+11   \n",
       "2        Fruits, Autres             1.695100e+10  6.848400e+10   \n",
       "3        Huile de Palme             3.105500e+10  6.922000e+09   \n",
       "4    Lait - Excl Beurre             9.102300e+10  3.320100e+11   \n",
       "5       Légumes, Autres             2.962500e+10  5.057570e+11   \n",
       "6                Manioc             3.475100e+10  1.526800e+10   \n",
       "7                  Maïs             1.024890e+11  5.595000e+10   \n",
       "8                  Orge             2.251500e+10  3.650000e+08   \n",
       "9   Poissons Pelagiques             1.437100e+10  4.052000e+09   \n",
       "10               Pommes             8.518000e+09  1.455700e+10   \n",
       "11     Riz (Eq Blanchi)             1.446000e+10  1.242360e+11   \n",
       "12                 Soja             9.349700e+10  7.532000e+09   \n",
       "13        Sucre Eq Brut             3.507100e+10  6.582300e+10   \n",
       "14              Tomates             7.143000e+09  2.025200e+10   \n",
       "\n",
       "    Aliments pour animaux  Autres utilisations (non alimentaire)  \\\n",
       "0            0.000000e+00                           0.000000e+00   \n",
       "1            9.871500e+10                           1.512500e+10   \n",
       "2            0.000000e+00                           1.200000e+07   \n",
       "3            0.000000e+00                           1.974700e+10   \n",
       "4            2.913300e+10                           1.247900e+10   \n",
       "5            3.956200e+10                           1.900000e+07   \n",
       "6            2.515300e+10                           2.035500e+10   \n",
       "7            4.028870e+11                           1.821180e+11   \n",
       "8            2.016000e+10                           1.200000e+07   \n",
       "9            1.309700e+10                           4.000000e+07   \n",
       "10           0.000000e+00                           0.000000e+00   \n",
       "11           1.270900e+10                           2.817000e+09   \n",
       "12           1.371000e+10                           5.250000e+08   \n",
       "13           0.000000e+00                           3.009000e+09   \n",
       "14           0.000000e+00                           0.000000e+00   \n",
       "\n",
       "    Disponibilité intérieure  ratio_autre_uti_dispo_int  \\\n",
       "0               7.466000e+09                   0.000000   \n",
       "1               4.603270e+11                   0.032857   \n",
       "2               7.452400e+10                   0.000161   \n",
       "3               2.688600e+10                   0.734471   \n",
       "4               3.780210e+11                   0.033011   \n",
       "5               5.906750e+11                   0.000032   \n",
       "6               6.734100e+10                   0.302268   \n",
       "7               7.011040e+11                   0.259759   \n",
       "8               2.960000e+10                   0.000405   \n",
       "9               1.719000e+10                   0.002327   \n",
       "10              1.559200e+10                   0.000000   \n",
       "11              1.517510e+11                   0.018563   \n",
       "12              1.595930e+11                   0.003290   \n",
       "13              7.932100e+10                   0.037934   \n",
       "14              2.127700e+10                   0.000000   \n",
       "\n",
       "    ratio_alianimaux_alimentanihumain  \n",
       "0                            0.000000  \n",
       "1                            0.245294  \n",
       "2                            0.000000  \n",
       "3                            0.000000  \n",
       "4                            0.080669  \n",
       "5                            0.072548  \n",
       "6                            0.622276  \n",
       "7                            0.878061  \n",
       "8                            0.982217  \n",
       "9                            0.763718  \n",
       "10                           0.000000  \n",
       "11                           0.092804  \n",
       "12                           0.645419  \n",
       "13                           0.000000  \n",
       "14                           0.000000  "
      ]
     },
     "execution_count": 77,
     "metadata": {},
     "output_type": "execute_result"
    }
   ],
   "source": [
    "# Calculons le ratio entre la quantité destinée à la nourriture animale et la quantité destinée à la nourriture (animale + humaine)\n",
    "importation_pays_sousali['ratio_alianimaux_alimentanihumain'] = importation_pays_sousali['Aliments pour animaux']/(importation_pays_sousali['Aliments pour animaux']+importation_pays_sousali['Nourriture'])\n",
    "importation_pays_sousali"
   ]
  },
  {
   "cell_type": "markdown",
   "id": "0ace355e",
   "metadata": {},
   "source": [
    "### Question 12 :\n",
    "Donnez les 3 produits qui ont la plus grande valeur pour chacun des 2 ratios (vous aurez donc 6 produits à citer)"
   ]
  },
  {
   "cell_type": "code",
   "execution_count": 78,
   "id": "4633ee61",
   "metadata": {},
   "outputs": [
    {
     "data": {
      "text/html": [
       "<div>\n",
       "<style scoped>\n",
       "    .dataframe tbody tr th:only-of-type {\n",
       "        vertical-align: middle;\n",
       "    }\n",
       "\n",
       "    .dataframe tbody tr th {\n",
       "        vertical-align: top;\n",
       "    }\n",
       "\n",
       "    .dataframe thead th {\n",
       "        text-align: right;\n",
       "    }\n",
       "</style>\n",
       "<table border=\"1\" class=\"dataframe\">\n",
       "  <thead>\n",
       "    <tr style=\"text-align: right;\">\n",
       "      <th></th>\n",
       "      <th>Produit</th>\n",
       "      <th>ratio_autre_uti_dispo_int</th>\n",
       "    </tr>\n",
       "  </thead>\n",
       "  <tbody>\n",
       "    <tr>\n",
       "      <th>3</th>\n",
       "      <td>Huile de Palme</td>\n",
       "      <td>0.734471</td>\n",
       "    </tr>\n",
       "    <tr>\n",
       "      <th>6</th>\n",
       "      <td>Manioc</td>\n",
       "      <td>0.302268</td>\n",
       "    </tr>\n",
       "    <tr>\n",
       "      <th>7</th>\n",
       "      <td>Maïs</td>\n",
       "      <td>0.259759</td>\n",
       "    </tr>\n",
       "  </tbody>\n",
       "</table>\n",
       "</div>"
      ],
      "text/plain": [
       "          Produit  ratio_autre_uti_dispo_int\n",
       "3  Huile de Palme                   0.734471\n",
       "6          Manioc                   0.302268\n",
       "7            Maïs                   0.259759"
      ]
     },
     "execution_count": 78,
     "metadata": {},
     "output_type": "execute_result"
    }
   ],
   "source": [
    "#liste des 3 premiers hauts ratio autres utilisations/disponibilité intérieure\n",
    "importation_pays_sousali.sort_values('ratio_autre_uti_dispo_int', ascending = [False]).loc[:,['Produit','ratio_autre_uti_dispo_int']].head(3)"
   ]
  },
  {
   "cell_type": "code",
   "execution_count": 79,
   "id": "e749363e",
   "metadata": {},
   "outputs": [
    {
     "data": {
      "text/html": [
       "<div>\n",
       "<style scoped>\n",
       "    .dataframe tbody tr th:only-of-type {\n",
       "        vertical-align: middle;\n",
       "    }\n",
       "\n",
       "    .dataframe tbody tr th {\n",
       "        vertical-align: top;\n",
       "    }\n",
       "\n",
       "    .dataframe thead th {\n",
       "        text-align: right;\n",
       "    }\n",
       "</style>\n",
       "<table border=\"1\" class=\"dataframe\">\n",
       "  <thead>\n",
       "    <tr style=\"text-align: right;\">\n",
       "      <th></th>\n",
       "      <th>Produit</th>\n",
       "      <th>ratio_alianimaux_alimentanihumain</th>\n",
       "    </tr>\n",
       "  </thead>\n",
       "  <tbody>\n",
       "    <tr>\n",
       "      <th>8</th>\n",
       "      <td>Orge</td>\n",
       "      <td>0.982217</td>\n",
       "    </tr>\n",
       "    <tr>\n",
       "      <th>7</th>\n",
       "      <td>Maïs</td>\n",
       "      <td>0.878061</td>\n",
       "    </tr>\n",
       "    <tr>\n",
       "      <th>9</th>\n",
       "      <td>Poissons Pelagiques</td>\n",
       "      <td>0.763718</td>\n",
       "    </tr>\n",
       "  </tbody>\n",
       "</table>\n",
       "</div>"
      ],
      "text/plain": [
       "               Produit  ratio_alianimaux_alimentanihumain\n",
       "8                 Orge                           0.982217\n",
       "7                 Maïs                           0.878061\n",
       "9  Poissons Pelagiques                           0.763718"
      ]
     },
     "execution_count": 79,
     "metadata": {},
     "output_type": "execute_result"
    }
   ],
   "source": [
    "#liste des 3 premiers hauts ratio aliments pour animaux/aliments pour animaux + la nourriture\n",
    "importation_pays_sousali.sort_values('ratio_alianimaux_alimentanihumain', ascending = [False]).loc[:,['Produit','ratio_alianimaux_alimentanihumain']].head(3)\n"
   ]
  },
  {
   "cell_type": "markdown",
   "id": "35353c95",
   "metadata": {},
   "source": [
    "## Question 13 : \n",
    "Combien de tonnes de céréales pourraient être libérées si les USA diminuaient leur production de produits animaux de 10% ?"
   ]
  },
  {
   "cell_type": "code",
   "execution_count": 80,
   "id": "85aed2e7",
   "metadata": {},
   "outputs": [
    {
     "name": "stdout",
     "output_type": "stream",
     "text": [
      "si la production de produit animaux des USA était diminué de 10% cela libèrerait 14009600.0 tonnes de céréales\n"
     ]
    }
   ],
   "source": [
    "#trouvons la production animale libérée si baisse de 10%\n",
    "quant_lib_alim_animaux= (table_cereal[table_cereal['Zone']==\"États-Unis d'Amérique\"]['Aliments pour animaux']).sum()*0.1\n",
    "\n",
    "print('si la production de produit animaux des USA était diminué de 10% cela libèrerait {} tonnes de céréales'.format(quant_lib_alim_animaux/1000))"
   ]
  },
  {
   "cell_type": "markdown",
   "id": "2f577b39",
   "metadata": {},
   "source": [
    "## Question 14:\n",
    "En Thaïlande, quelle proportion de manioc est exportée ? Quelle est la proportion de personnes en sous-nutrition?"
   ]
  },
  {
   "cell_type": "code",
   "execution_count": 81,
   "id": "36bdac68",
   "metadata": {},
   "outputs": [
    {
     "data": {
      "text/plain": [
       "25214"
      ]
     },
     "execution_count": 81,
     "metadata": {},
     "output_type": "execute_result"
    }
   ],
   "source": [
    "#Trouvons la quantité de manioc exporté en Thaïlande\n",
    "manioc_expot_thai =int(animaux_vegetaux.loc[(animaux_vegetaux['Zone']=='Thaïlande') & (animaux_vegetaux['Produit']=='Manioc') & (animaux_vegetaux['Élément']=='Exportations - Quantité'),'Valeur'])\n",
    "manioc_expot_thai"
   ]
  },
  {
   "cell_type": "code",
   "execution_count": 82,
   "id": "e8d54f8f",
   "metadata": {},
   "outputs": [
    {
     "data": {
      "text/plain": [
       "30228"
      ]
     },
     "execution_count": 82,
     "metadata": {},
     "output_type": "execute_result"
    }
   ],
   "source": [
    "#Trouvons la production de manioc en Thaïlande\n",
    "manioc_production_thai =int(animaux_vegetaux.loc[(animaux_vegetaux['Zone']=='Thaïlande') & (animaux_vegetaux['Produit']=='Manioc') & (animaux_vegetaux['Élément']=='Production'),'Valeur'])                    \n",
    "manioc_production_thai"
   ]
  },
  {
   "cell_type": "code",
   "execution_count": 83,
   "id": "147407f1",
   "metadata": {},
   "outputs": [
    {
     "data": {
      "text/plain": [
       "5600000.0"
      ]
     },
     "execution_count": 83,
     "metadata": {},
     "output_type": "execute_result"
    }
   ],
   "source": [
    "#Trouvons le nombre de personnes sous alimenté en Thaïlande\n",
    "nbr_sousaliment_thaïlande = float(sousal_annee.loc[(sousal_annee['Zone']=='Thaïlande'),'Valeur'])\n",
    "nbr_sousaliment_thaïlande"
   ]
  },
  {
   "cell_type": "code",
   "execution_count": 84,
   "id": "9982636b",
   "metadata": {},
   "outputs": [
    {
     "name": "stdout",
     "output_type": "stream",
     "text": [
      "la Thaïlande a exporté 25.214 de tonnes de manioc soit 83.41 % par rapport à la production totale en 2013 et 8.4 % de la population de ce pays sont en sous alimentation\n"
     ]
    }
   ],
   "source": [
    "#La population de la Thaïlande\n",
    "population_thaïlande= int(population.loc[population['Zone']=='Thaïlande', 'Valeur'])\n",
    "population_thaïlande\n",
    "\n",
    "print('la Thaïlande a exporté {} de tonnes de manioc soit {} % par rapport à la production totale en 2013 et {} % de la population de ce pays sont en sous alimentation'.format(manioc_expot_thai/1000,round((manioc_expot_thai/manioc_production_thai)*100, 2), round((nbr_sousaliment_thaïlande/population_thaïlande)*100, 1)))"
   ]
  },
  {
   "cell_type": "markdown",
   "id": "96bbfec1",
   "metadata": {},
   "source": [
    "## Question 15-18: Transformation des tables pour les requetes SQL\n",
    "Créons les tables qui alimenterons notre base de données:\n"
   ]
  },
  {
   "cell_type": "markdown",
   "id": "74fef8b9",
   "metadata": {},
   "source": [
    "* Une table appelée population, contenant la population de chaque pays pour 2013. Elle contient 4 colonnes : pays, code_pays, annee, population."
   ]
  },
  {
   "cell_type": "code",
   "execution_count": 85,
   "id": "8beb69ad",
   "metadata": {},
   "outputs": [
    {
     "name": "stdout",
     "output_type": "stream",
     "text": [
      "pays est une clé primaire de notre table.\n"
     ]
    }
   ],
   "source": [
    "# sélectionnons les colonnes dont on a besoin\n",
    "\n",
    "popu= population[['Zone','Code zone','Année','Valeur']]\n",
    "\n",
    "# renommons nos colonnes\n",
    "popu.columns =['pays','code_pays','annee','population']\n",
    "\n",
    "# déterminons la clé primaire de la table popu\n",
    "check_keys(popu,'pays')\n",
    "\n",
    "# exportons notre dataframe via un fichier csv \n",
    "popu.to_csv('population.csv',index= False)"
   ]
  },
  {
   "cell_type": "markdown",
   "id": "a43737ea",
   "metadata": {},
   "source": [
    "* la table appelée dispo_alim contenant pour chaque pays et pour chaque produit en 2013, les informations suivantes:\n",
    "les colonnes : pays, code_pays, année, produit, code_produit, origin, dispo_alim_tonnes, dispo_alim_kcal_p_j, dispo_prot, dispo_mat_gr ."
   ]
  },
  {
   "cell_type": "code",
   "execution_count": 86,
   "id": "2e59aaf7",
   "metadata": {},
   "outputs": [
    {
     "name": "stdout",
     "output_type": "stream",
     "text": [
      "['pays', 'produit'] est une clé primaire de notre table.\n"
     ]
    }
   ],
   "source": [
    "#sélectionnons les colonnes qui nous interessent dans la table \n",
    "dispo_alim = table[['Zone','Code zone','Année','Produit','Code Produit','Origine','Disponibilité alimentaire en quantité (kg/personne/an)','Disponibilité alimentaire (Kcal/personne/jour)','Disponibilité de protéines en quantité (g/personne/jour)','Disponibilité de matière grasse en quantité (g/personne/jour)']]\n",
    "\n",
    "# renommons nos colonnes\n",
    "dispo_alim.columns=['pays','code_pays','annee','produit','code_produit','origin','dispo_alim_tonnes','dispo_alim_kcal_p_j','dispo_prot', 'dispo_mat_gr']\n",
    "\n",
    "# déterminons la clé primaire de la table dispo_alim\n",
    "check_keys(dispo_alim,['pays','produit'])\n",
    "\n",
    "# exportons notre dataframe via un fichier csv \n",
    "dispo_alim.to_csv('dispo_alim.csv',index=False)"
   ]
  },
  {
   "cell_type": "markdown",
   "id": "b422c345",
   "metadata": {},
   "source": [
    "* la table appelée equilibre_prod contenant pour chaque pays et pour chaque produit en 2013, les colonnes suivantes : pays, code_pays, année, produit, code_produit, dispo_int, alim_ani, semences, pertes, transfo, nourriture, autres_utilisations."
   ]
  },
  {
   "cell_type": "code",
   "execution_count": 87,
   "id": "638e0630",
   "metadata": {},
   "outputs": [
    {
     "name": "stdout",
     "output_type": "stream",
     "text": [
      "['pays', 'produit'] est une clé primaire de notre table.\n"
     ]
    }
   ],
   "source": [
    "# sélectionnons les colonnes pertinantes dans la table \n",
    "equilibre_prod = table[['Zone','Code zone','Année','Produit','Code Produit','Disponibilité intérieure','Aliments pour animaux','Semences','Pertes','Traitement','Nourriture','Autres utilisations (non alimentaire)']]\n",
    "\n",
    "# renommons nos colonnes\n",
    "equilibre_prod.columns=['pays','code_pays','annee','produit','code_produit','dispo_int','alim_ani','semences','pertes', 'transfo','nourriture','autres_utilisations']\n",
    "\n",
    "# déterminons la clé primaire de la table equilibre_prod\n",
    "check_keys(equilibre_prod,['pays','produit'])\n",
    "\n",
    "#exportons notre dataframe via un fichier csv \n",
    "equilibre_prod.to_csv('equilibre_prod.csv', index = False)"
   ]
  },
  {
   "cell_type": "markdown",
   "id": "829a0c7b",
   "metadata": {},
   "source": [
    "* la table appelée sous_nutrition, contenant le nombre de personnes en sous-alimentation pour chaque pays en 2013. Avec 4 colonnes : pays, code_pays, année, nb_personnes."
   ]
  },
  {
   "cell_type": "code",
   "execution_count": 88,
   "id": "9827fb5a",
   "metadata": {},
   "outputs": [
    {
     "name": "stdout",
     "output_type": "stream",
     "text": [
      "pays est une clé primaire de notre table.\n"
     ]
    }
   ],
   "source": [
    "# sélectionnons les colonnes de notre futur table dans la table sousalimentation_annee\n",
    "sous_alimentation = sousal_annee[['Zone','Code zone','Année','Valeur']]\n",
    "sous_alimentation.columns =['pays','code_pays','annee','nb_personnes']\n",
    "\n",
    "# déterminons la clé primaire de la table sousalimentation_pays\n",
    "check_keys(sous_alimentation,'pays')\n",
    "\n",
    "# exportons notre dataframe via un fichier csv \n",
    "sous_alimentation.to_csv('sous_alimentation.csv',index = False)"
   ]
  },
  {
   "cell_type": "markdown",
   "id": "3405579b",
   "metadata": {},
   "source": [
    "### Question 20\n",
    "Pour quelques uns des produits identifiés dans la dernière requête SQL, les \"autres utilisations\" possibles des produits figurants sur la liste sont: (Issu de la recherche internet)\n",
    "\n",
    "- **L'alcool non commestible** est utisé à des fins médicales.\n",
    "- **Les plantes aquatiques** servent aux maintien de l'écosysthème aquatique(fournissent de l'oxygène et luttent contre la prolifération des algues. \n",
    "- **L'huile de palme** est utilisée comme agro-carburant et dans l'oléochimie pour fabrication des produits cosmétiques. \n",
    "- **L'huile de pante Oleifère** : usage phamaceutique,cosmétique.\n"
   ]
  }
 ],
 "metadata": {
  "kernelspec": {
   "display_name": "Python 3 (ipykernel)",
   "language": "python",
   "name": "python3"
  },
  "language_info": {
   "codemirror_mode": {
    "name": "ipython",
    "version": 3
   },
   "file_extension": ".py",
   "mimetype": "text/x-python",
   "name": "python",
   "nbconvert_exporter": "python",
   "pygments_lexer": "ipython3",
   "version": "3.9.7"
  }
 },
 "nbformat": 4,
 "nbformat_minor": 5
}
